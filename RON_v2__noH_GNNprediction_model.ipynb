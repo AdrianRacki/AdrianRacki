{
  "nbformat": 4,
  "nbformat_minor": 0,
  "metadata": {
    "colab": {
      "provenance": [],
      "collapsed_sections": [
        "HUpnR81km4ua"
      ],
      "gpuType": "T4",
      "mount_file_id": "1CdVB5qX6t1q4PNQRnJMOdmtzDKaSTJW2",
      "authorship_tag": "ABX9TyMHYtOgRPk2dea7OJf8MxaI",
      "include_colab_link": true
    },
    "kernelspec": {
      "name": "python3",
      "display_name": "Python 3"
    },
    "language_info": {
      "name": "python"
    },
    "accelerator": "GPU"
  },
  "cells": [
    {
      "cell_type": "markdown",
      "metadata": {
        "id": "view-in-github",
        "colab_type": "text"
      },
      "source": [
        "<a href=\"https://colab.research.google.com/github/AdrianRacki/AdrianRacki/blob/main/RON_v2__noH_GNNprediction_model.ipynb\" target=\"_parent\"><img src=\"https://colab.research.google.com/assets/colab-badge.svg\" alt=\"Open In Colab\"/></a>"
      ]
    },
    {
      "cell_type": "markdown",
      "source": [
        "# Environment preparation"
      ],
      "metadata": {
        "id": "MMc6ilPMnOp_"
      }
    },
    {
      "cell_type": "code",
      "execution_count": null,
      "metadata": {
        "colab": {
          "base_uri": "https://localhost:8080/",
          "height": 1000
        },
        "id": "SJjJSepAglXl",
        "outputId": "d41d3905-8db8-4b96-b42e-2f2d7c9f2bd4"
      },
      "outputs": [
        {
          "output_type": "stream",
          "name": "stdout",
          "text": [
            "Reading package lists... Done\n",
            "Building dependency tree... Done\n",
            "Reading state information... Done\n",
            "E: Unable to locate package python-rdkit\n",
            "Collecting rdkit\n",
            "  Downloading rdkit-2023.3.3-cp310-cp310-manylinux_2_17_x86_64.manylinux2014_x86_64.whl (29.7 MB)\n",
            "\u001b[2K     \u001b[90m━━━━━━━━━━━━━━━━━━━━━━━━━━━━━━━━━━━━━━━━\u001b[0m \u001b[32m29.7/29.7 MB\u001b[0m \u001b[31m35.8 MB/s\u001b[0m eta \u001b[36m0:00:00\u001b[0m\n",
            "\u001b[?25hRequirement already satisfied: numpy in /usr/local/lib/python3.10/dist-packages (from rdkit) (1.23.5)\n",
            "Requirement already satisfied: Pillow in /usr/local/lib/python3.10/dist-packages (from rdkit) (9.4.0)\n",
            "Installing collected packages: rdkit\n",
            "Successfully installed rdkit-2023.3.3\n",
            "Collecting tensorflow_gnn\n",
            "  Downloading tensorflow_gnn-0.6.0-py3-none-any.whl (803 kB)\n",
            "\u001b[2K     \u001b[90m━━━━━━━━━━━━━━━━━━━━━━━━━━━━━━━━━━━━━━━\u001b[0m \u001b[32m803.9/803.9 kB\u001b[0m \u001b[31m8.4 MB/s\u001b[0m eta \u001b[36m0:00:00\u001b[0m\n",
            "\u001b[?25hCollecting google-vizier>=0.0.13 (from tensorflow_gnn)\n",
            "  Downloading google_vizier-0.1.11-py3-none-any.whl (721 kB)\n",
            "\u001b[2K     \u001b[90m━━━━━━━━━━━━━━━━━━━━━━━━━━━━━━━━━━━━━━━\u001b[0m \u001b[32m721.6/721.6 kB\u001b[0m \u001b[31m7.0 MB/s\u001b[0m eta \u001b[36m0:00:00\u001b[0m\n",
            "\u001b[?25hCollecting ml-collections (from tensorflow_gnn)\n",
            "  Downloading ml_collections-0.1.1.tar.gz (77 kB)\n",
            "\u001b[2K     \u001b[90m━━━━━━━━━━━━━━━━━━━━━━━━━━━━━━━━━━━━━━━━\u001b[0m \u001b[32m77.9/77.9 kB\u001b[0m \u001b[31m9.7 MB/s\u001b[0m eta \u001b[36m0:00:00\u001b[0m\n",
            "\u001b[?25h  Preparing metadata (setup.py) ... \u001b[?25l\u001b[?25hdone\n",
            "Requirement already satisfied: networkx in /usr/local/lib/python3.10/dist-packages (from tensorflow_gnn) (3.1)\n",
            "Requirement already satisfied: pyarrow in /usr/local/lib/python3.10/dist-packages (from tensorflow_gnn) (9.0.0)\n",
            "Collecting apache-beam<2.47.0 (from tensorflow_gnn)\n",
            "  Downloading apache_beam-2.46.0-cp310-cp310-manylinux_2_17_x86_64.manylinux2014_x86_64.whl (14.2 MB)\n",
            "\u001b[2K     \u001b[90m━━━━━━━━━━━━━━━━━━━━━━━━━━━━━━━━━━━━━━━━\u001b[0m \u001b[32m14.2/14.2 MB\u001b[0m \u001b[31m51.7 MB/s\u001b[0m eta \u001b[36m0:00:00\u001b[0m\n",
            "\u001b[?25hRequirement already satisfied: tensorflow>=2.10.0 in /usr/local/lib/python3.10/dist-packages (from tensorflow_gnn) (2.13.0)\n",
            "Requirement already satisfied: protobuf<4,>3.12.2 in /usr/local/lib/python3.10/dist-packages (from apache-beam<2.47.0->tensorflow_gnn) (3.20.3)\n",
            "Collecting crcmod<2.0,>=1.7 (from apache-beam<2.47.0->tensorflow_gnn)\n",
            "  Downloading crcmod-1.7.tar.gz (89 kB)\n",
            "\u001b[2K     \u001b[90m━━━━━━━━━━━━━━━━━━━━━━━━━━━━━━━━━━━━━━━━\u001b[0m \u001b[32m89.7/89.7 kB\u001b[0m \u001b[31m9.8 MB/s\u001b[0m eta \u001b[36m0:00:00\u001b[0m\n",
            "\u001b[?25h  Preparing metadata (setup.py) ... \u001b[?25l\u001b[?25hdone\n",
            "Collecting orjson<4.0 (from apache-beam<2.47.0->tensorflow_gnn)\n",
            "  Downloading orjson-3.9.7-cp310-cp310-manylinux_2_17_x86_64.manylinux2014_x86_64.whl (138 kB)\n",
            "\u001b[2K     \u001b[90m━━━━━━━━━━━━━━━━━━━━━━━━━━━━━━━━━━━━━━━\u001b[0m \u001b[32m138.7/138.7 kB\u001b[0m \u001b[31m1.4 MB/s\u001b[0m eta \u001b[36m0:00:00\u001b[0m\n",
            "\u001b[?25hCollecting dill<0.3.2,>=0.3.1.1 (from apache-beam<2.47.0->tensorflow_gnn)\n",
            "  Downloading dill-0.3.1.1.tar.gz (151 kB)\n",
            "\u001b[2K     \u001b[90m━━━━━━━━━━━━━━━━━━━━━━━━━━━━━━━━━━━━━━\u001b[0m \u001b[32m152.0/152.0 kB\u001b[0m \u001b[31m15.1 MB/s\u001b[0m eta \u001b[36m0:00:00\u001b[0m\n",
            "\u001b[?25h  Preparing metadata (setup.py) ... \u001b[?25l\u001b[?25hdone\n",
            "Requirement already satisfied: cloudpickle~=2.2.1 in /usr/local/lib/python3.10/dist-packages (from apache-beam<2.47.0->tensorflow_gnn) (2.2.1)\n",
            "Collecting fastavro<2,>=0.23.6 (from apache-beam<2.47.0->tensorflow_gnn)\n",
            "  Downloading fastavro-1.8.3-cp310-cp310-manylinux_2_17_x86_64.manylinux2014_x86_64.whl (2.7 MB)\n",
            "\u001b[2K     \u001b[90m━━━━━━━━━━━━━━━━━━━━━━━━━━━━━━━━━━━━━━━━\u001b[0m \u001b[32m2.7/2.7 MB\u001b[0m \u001b[31m36.0 MB/s\u001b[0m eta \u001b[36m0:00:00\u001b[0m\n",
            "\u001b[?25hCollecting fasteners<1.0,>=0.3 (from apache-beam<2.47.0->tensorflow_gnn)\n",
            "  Downloading fasteners-0.19-py3-none-any.whl (18 kB)\n",
            "Requirement already satisfied: grpcio!=1.48.0,<2,>=1.33.1 in /usr/local/lib/python3.10/dist-packages (from apache-beam<2.47.0->tensorflow_gnn) (1.57.0)\n",
            "Collecting hdfs<3.0.0,>=2.1.0 (from apache-beam<2.47.0->tensorflow_gnn)\n",
            "  Downloading hdfs-2.7.2.tar.gz (43 kB)\n",
            "\u001b[2K     \u001b[90m━━━━━━━━━━━━━━━━━━━━━━━━━━━━━━━━━━━━━━━━\u001b[0m \u001b[32m43.4/43.4 kB\u001b[0m \u001b[31m5.1 MB/s\u001b[0m eta \u001b[36m0:00:00\u001b[0m\n",
            "\u001b[?25h  Preparing metadata (setup.py) ... \u001b[?25l\u001b[?25hdone\n",
            "Collecting httplib2<0.22.0,>=0.8 (from apache-beam<2.47.0->tensorflow_gnn)\n",
            "  Downloading httplib2-0.21.0-py3-none-any.whl (96 kB)\n",
            "\u001b[2K     \u001b[90m━━━━━━━━━━━━━━━━━━━━━━━━━━━━━━━━━━━━━━━━\u001b[0m \u001b[32m96.8/96.8 kB\u001b[0m \u001b[31m11.7 MB/s\u001b[0m eta \u001b[36m0:00:00\u001b[0m\n",
            "\u001b[?25hRequirement already satisfied: numpy<1.25.0,>=1.14.3 in /usr/local/lib/python3.10/dist-packages (from apache-beam<2.47.0->tensorflow_gnn) (1.23.5)\n",
            "Collecting objsize<0.7.0,>=0.6.1 (from apache-beam<2.47.0->tensorflow_gnn)\n",
            "  Downloading objsize-0.6.1-py3-none-any.whl (9.3 kB)\n",
            "Collecting pymongo<4.0.0,>=3.8.0 (from apache-beam<2.47.0->tensorflow_gnn)\n",
            "  Downloading pymongo-3.13.0-cp310-cp310-manylinux_2_17_x86_64.manylinux2014_x86_64.whl (516 kB)\n",
            "\u001b[2K     \u001b[90m━━━━━━━━━━━━━━━━━━━━━━━━━━━━━━━━━━━━━━\u001b[0m \u001b[32m516.2/516.2 kB\u001b[0m \u001b[31m46.4 MB/s\u001b[0m eta \u001b[36m0:00:00\u001b[0m\n",
            "\u001b[?25hRequirement already satisfied: proto-plus<2,>=1.7.1 in /usr/local/lib/python3.10/dist-packages (from apache-beam<2.47.0->tensorflow_gnn) (1.22.3)\n",
            "Requirement already satisfied: pydot<2,>=1.2.0 in /usr/local/lib/python3.10/dist-packages (from apache-beam<2.47.0->tensorflow_gnn) (1.4.2)\n",
            "Requirement already satisfied: python-dateutil<3,>=2.8.0 in /usr/local/lib/python3.10/dist-packages (from apache-beam<2.47.0->tensorflow_gnn) (2.8.2)\n",
            "Requirement already satisfied: pytz>=2018.3 in /usr/local/lib/python3.10/dist-packages (from apache-beam<2.47.0->tensorflow_gnn) (2023.3.post1)\n",
            "Requirement already satisfied: regex>=2020.6.8 in /usr/local/lib/python3.10/dist-packages (from apache-beam<2.47.0->tensorflow_gnn) (2023.6.3)\n",
            "Requirement already satisfied: requests<3.0.0,>=2.24.0 in /usr/local/lib/python3.10/dist-packages (from apache-beam<2.47.0->tensorflow_gnn) (2.31.0)\n",
            "Requirement already satisfied: typing-extensions>=3.7.0 in /usr/local/lib/python3.10/dist-packages (from apache-beam<2.47.0->tensorflow_gnn) (4.5.0)\n",
            "Collecting zstandard<1,>=0.18.0 (from apache-beam<2.47.0->tensorflow_gnn)\n",
            "  Downloading zstandard-0.21.0-cp310-cp310-manylinux_2_17_x86_64.manylinux2014_x86_64.whl (2.7 MB)\n",
            "\u001b[2K     \u001b[90m━━━━━━━━━━━━━━━━━━━━━━━━━━━━━━━━━━━━━━━━\u001b[0m \u001b[32m2.7/2.7 MB\u001b[0m \u001b[31m83.2 MB/s\u001b[0m eta \u001b[36m0:00:00\u001b[0m\n",
            "\u001b[?25hRequirement already satisfied: attrs==23.1.0 in /usr/local/lib/python3.10/dist-packages (from google-vizier>=0.0.13->tensorflow_gnn) (23.1.0)\n",
            "Requirement already satisfied: absl-py>=1.0.0 in /usr/local/lib/python3.10/dist-packages (from google-vizier>=0.0.13->tensorflow_gnn) (1.4.0)\n",
            "Requirement already satisfied: portpicker>=1.3.1 in /usr/local/lib/python3.10/dist-packages (from google-vizier>=0.0.13->tensorflow_gnn) (1.5.2)\n",
            "Collecting grpcio-tools>=1.35.0 (from google-vizier>=0.0.13->tensorflow_gnn)\n",
            "  Downloading grpcio_tools-1.58.0-cp310-cp310-manylinux_2_17_x86_64.manylinux2014_x86_64.whl (2.6 MB)\n",
            "\u001b[2K     \u001b[90m━━━━━━━━━━━━━━━━━━━━━━━━━━━━━━━━━━━━━━━━\u001b[0m \u001b[32m2.6/2.6 MB\u001b[0m \u001b[31m15.6 MB/s\u001b[0m eta \u001b[36m0:00:00\u001b[0m\n",
            "\u001b[?25hRequirement already satisfied: googleapis-common-protos>=1.56.4 in /usr/local/lib/python3.10/dist-packages (from google-vizier>=0.0.13->tensorflow_gnn) (1.60.0)\n",
            "Collecting sqlalchemy<=1.4.20,>=1.4 (from google-vizier>=0.0.13->tensorflow_gnn)\n",
            "  Downloading SQLAlchemy-1.4.20.tar.gz (7.7 MB)\n",
            "\u001b[2K     \u001b[90m━━━━━━━━━━━━━━━━━━━━━━━━━━━━━━━━━━━━━━━━\u001b[0m \u001b[32m7.7/7.7 MB\u001b[0m \u001b[31m74.2 MB/s\u001b[0m eta \u001b[36m0:00:00\u001b[0m\n",
            "\u001b[?25h  Preparing metadata (setup.py) ... \u001b[?25l\u001b[?25hdone\n",
            "Requirement already satisfied: astunparse>=1.6.0 in /usr/local/lib/python3.10/dist-packages (from tensorflow>=2.10.0->tensorflow_gnn) (1.6.3)\n",
            "Requirement already satisfied: flatbuffers>=23.1.21 in /usr/local/lib/python3.10/dist-packages (from tensorflow>=2.10.0->tensorflow_gnn) (23.5.26)\n",
            "Requirement already satisfied: gast<=0.4.0,>=0.2.1 in /usr/local/lib/python3.10/dist-packages (from tensorflow>=2.10.0->tensorflow_gnn) (0.4.0)\n",
            "Requirement already satisfied: google-pasta>=0.1.1 in /usr/local/lib/python3.10/dist-packages (from tensorflow>=2.10.0->tensorflow_gnn) (0.2.0)\n",
            "Requirement already satisfied: h5py>=2.9.0 in /usr/local/lib/python3.10/dist-packages (from tensorflow>=2.10.0->tensorflow_gnn) (3.9.0)\n",
            "Requirement already satisfied: keras<2.14,>=2.13.1 in /usr/local/lib/python3.10/dist-packages (from tensorflow>=2.10.0->tensorflow_gnn) (2.13.1)\n",
            "Requirement already satisfied: libclang>=13.0.0 in /usr/local/lib/python3.10/dist-packages (from tensorflow>=2.10.0->tensorflow_gnn) (16.0.6)\n",
            "Requirement already satisfied: opt-einsum>=2.3.2 in /usr/local/lib/python3.10/dist-packages (from tensorflow>=2.10.0->tensorflow_gnn) (3.3.0)\n",
            "Requirement already satisfied: packaging in /usr/local/lib/python3.10/dist-packages (from tensorflow>=2.10.0->tensorflow_gnn) (23.1)\n",
            "Requirement already satisfied: setuptools in /usr/local/lib/python3.10/dist-packages (from tensorflow>=2.10.0->tensorflow_gnn) (67.7.2)\n",
            "Requirement already satisfied: six>=1.12.0 in /usr/local/lib/python3.10/dist-packages (from tensorflow>=2.10.0->tensorflow_gnn) (1.16.0)\n",
            "Requirement already satisfied: tensorboard<2.14,>=2.13 in /usr/local/lib/python3.10/dist-packages (from tensorflow>=2.10.0->tensorflow_gnn) (2.13.0)\n",
            "Requirement already satisfied: tensorflow-estimator<2.14,>=2.13.0 in /usr/local/lib/python3.10/dist-packages (from tensorflow>=2.10.0->tensorflow_gnn) (2.13.0)\n",
            "Requirement already satisfied: termcolor>=1.1.0 in /usr/local/lib/python3.10/dist-packages (from tensorflow>=2.10.0->tensorflow_gnn) (2.3.0)\n",
            "Requirement already satisfied: wrapt>=1.11.0 in /usr/local/lib/python3.10/dist-packages (from tensorflow>=2.10.0->tensorflow_gnn) (1.15.0)\n",
            "Requirement already satisfied: tensorflow-io-gcs-filesystem>=0.23.1 in /usr/local/lib/python3.10/dist-packages (from tensorflow>=2.10.0->tensorflow_gnn) (0.33.0)\n",
            "Requirement already satisfied: PyYAML in /usr/local/lib/python3.10/dist-packages (from ml-collections->tensorflow_gnn) (6.0.1)\n",
            "Requirement already satisfied: contextlib2 in /usr/local/lib/python3.10/dist-packages (from ml-collections->tensorflow_gnn) (21.6.0)\n",
            "Requirement already satisfied: wheel<1.0,>=0.23.0 in /usr/local/lib/python3.10/dist-packages (from astunparse>=1.6.0->tensorflow>=2.10.0->tensorflow_gnn) (0.41.2)\n",
            "INFO: pip is looking at multiple versions of grpcio-tools to determine which version is compatible with other requirements. This could take a while.\n",
            "Collecting grpcio-tools>=1.35.0 (from google-vizier>=0.0.13->tensorflow_gnn)\n",
            "  Downloading grpcio_tools-1.57.0-cp310-cp310-manylinux_2_17_x86_64.manylinux2014_x86_64.whl (2.6 MB)\n",
            "\u001b[2K     \u001b[90m━━━━━━━━━━━━━━━━━━━━━━━━━━━━━━━━━━━━━━━━\u001b[0m \u001b[32m2.6/2.6 MB\u001b[0m \u001b[31m94.7 MB/s\u001b[0m eta \u001b[36m0:00:00\u001b[0m\n",
            "\u001b[?25h  Downloading grpcio_tools-1.56.2-cp310-cp310-manylinux_2_17_x86_64.manylinux2014_x86_64.whl (2.6 MB)\n",
            "\u001b[2K     \u001b[90m━━━━━━━━━━━━━━━━━━━━━━━━━━━━━━━━━━━━━━━━\u001b[0m \u001b[32m2.6/2.6 MB\u001b[0m \u001b[31m94.5 MB/s\u001b[0m eta \u001b[36m0:00:00\u001b[0m\n",
            "\u001b[?25h  Downloading grpcio_tools-1.56.0-cp310-cp310-manylinux_2_17_x86_64.manylinux2014_x86_64.whl (2.6 MB)\n",
            "\u001b[2K     \u001b[90m━━━━━━━━━━━━━━━━━━━━━━━━━━━━━━━━━━━━━━━━\u001b[0m \u001b[32m2.6/2.6 MB\u001b[0m \u001b[31m94.0 MB/s\u001b[0m eta \u001b[36m0:00:00\u001b[0m\n",
            "\u001b[?25h  Downloading grpcio_tools-1.55.3-cp310-cp310-manylinux_2_17_x86_64.manylinux2014_x86_64.whl (2.6 MB)\n",
            "\u001b[2K     \u001b[90m━━━━━━━━━━━━━━━━━━━━━━━━━━━━━━━━━━━━━━━━\u001b[0m \u001b[32m2.6/2.6 MB\u001b[0m \u001b[31m96.1 MB/s\u001b[0m eta \u001b[36m0:00:00\u001b[0m\n",
            "\u001b[?25h  Downloading grpcio_tools-1.54.3-cp310-cp310-manylinux_2_17_x86_64.manylinux2014_x86_64.whl (2.4 MB)\n",
            "\u001b[2K     \u001b[90m━━━━━━━━━━━━━━━━━━━━━━━━━━━━━━━━━━━━━━━━\u001b[0m \u001b[32m2.4/2.4 MB\u001b[0m \u001b[31m96.5 MB/s\u001b[0m eta \u001b[36m0:00:00\u001b[0m\n",
            "\u001b[?25h  Downloading grpcio_tools-1.54.2-cp310-cp310-manylinux_2_17_x86_64.manylinux2014_x86_64.whl (2.4 MB)\n",
            "\u001b[2K     \u001b[90m━━━━━━━━━━━━━━━━━━━━━━━━━━━━━━━━━━━━━━━━\u001b[0m \u001b[32m2.4/2.4 MB\u001b[0m \u001b[31m91.7 MB/s\u001b[0m eta \u001b[36m0:00:00\u001b[0m\n",
            "\u001b[?25h  Downloading grpcio_tools-1.54.0-cp310-cp310-manylinux_2_17_x86_64.manylinux2014_x86_64.whl (2.4 MB)\n",
            "\u001b[2K     \u001b[90m━━━━━━━━━━━━━━━━━━━━━━━━━━━━━━━━━━━━━━━━\u001b[0m \u001b[32m2.4/2.4 MB\u001b[0m \u001b[31m97.5 MB/s\u001b[0m eta \u001b[36m0:00:00\u001b[0m\n",
            "\u001b[?25hINFO: pip is looking at multiple versions of grpcio-tools to determine which version is compatible with other requirements. This could take a while.\n",
            "  Downloading grpcio_tools-1.53.2-cp310-cp310-manylinux_2_17_x86_64.manylinux2014_x86_64.whl (2.4 MB)\n",
            "\u001b[2K     \u001b[90m━━━━━━━━━━━━━━━━━━━━━━━━━━━━━━━━━━━━━━━━\u001b[0m \u001b[32m2.4/2.4 MB\u001b[0m \u001b[31m100.6 MB/s\u001b[0m eta \u001b[36m0:00:00\u001b[0m\n",
            "\u001b[?25h  Downloading grpcio_tools-1.53.1-cp310-cp310-manylinux_2_17_x86_64.manylinux2014_x86_64.whl (2.4 MB)\n",
            "\u001b[2K     \u001b[90m━━━━━━━━━━━━━━━━━━━━━━━━━━━━━━━━━━━━━━━━\u001b[0m \u001b[32m2.4/2.4 MB\u001b[0m \u001b[31m96.1 MB/s\u001b[0m eta \u001b[36m0:00:00\u001b[0m\n",
            "\u001b[?25h  Downloading grpcio_tools-1.53.0-cp310-cp310-manylinux_2_17_x86_64.manylinux2014_x86_64.whl (2.4 MB)\n",
            "\u001b[2K     \u001b[90m━━━━━━━━━━━━━━━━━━━━━━━━━━━━━━━━━━━━━━━━\u001b[0m \u001b[32m2.4/2.4 MB\u001b[0m \u001b[31m91.0 MB/s\u001b[0m eta \u001b[36m0:00:00\u001b[0m\n",
            "\u001b[?25h  Downloading grpcio_tools-1.51.3-cp310-cp310-manylinux_2_17_x86_64.manylinux2014_x86_64.whl (2.4 MB)\n",
            "\u001b[2K     \u001b[90m━━━━━━━━━━━━━━━━━━━━━━━━━━━━━━━━━━━━━━━━\u001b[0m \u001b[32m2.4/2.4 MB\u001b[0m \u001b[31m78.9 MB/s\u001b[0m eta \u001b[36m0:00:00\u001b[0m\n",
            "\u001b[?25h  Downloading grpcio_tools-1.51.1-cp310-cp310-manylinux_2_17_x86_64.manylinux2014_x86_64.whl (2.4 MB)\n",
            "\u001b[2K     \u001b[90m━━━━━━━━━━━━━━━━━━━━━━━━━━━━━━━━━━━━━━━━\u001b[0m \u001b[32m2.4/2.4 MB\u001b[0m \u001b[31m97.0 MB/s\u001b[0m eta \u001b[36m0:00:00\u001b[0m\n",
            "\u001b[?25hINFO: This is taking longer than usual. You might need to provide the dependency resolver with stricter constraints to reduce runtime. See https://pip.pypa.io/warnings/backtracking for guidance. If you want to abort this run, press Ctrl + C.\n",
            "  Downloading grpcio_tools-1.50.0-cp310-cp310-manylinux_2_17_x86_64.manylinux2014_x86_64.whl (2.4 MB)\n",
            "\u001b[2K     \u001b[90m━━━━━━━━━━━━━━━━━━━━━━━━━━━━━━━━━━━━━━━━\u001b[0m \u001b[32m2.4/2.4 MB\u001b[0m \u001b[31m84.1 MB/s\u001b[0m eta \u001b[36m0:00:00\u001b[0m\n",
            "\u001b[?25h  Downloading grpcio_tools-1.49.1-cp310-cp310-manylinux_2_17_x86_64.manylinux2014_x86_64.whl (2.4 MB)\n",
            "\u001b[2K     \u001b[90m━━━━━━━━━━━━━━━━━━━━━━━━━━━━━━━━━━━━━━━━\u001b[0m \u001b[32m2.4/2.4 MB\u001b[0m \u001b[31m99.7 MB/s\u001b[0m eta \u001b[36m0:00:00\u001b[0m\n",
            "\u001b[?25h  Downloading grpcio_tools-1.48.2-cp310-cp310-manylinux_2_17_x86_64.manylinux2014_x86_64.whl (2.4 MB)\n",
            "\u001b[2K     \u001b[90m━━━━━━━━━━━━━━━━━━━━━━━━━━━━━━━━━━━━━━━━\u001b[0m \u001b[32m2.4/2.4 MB\u001b[0m \u001b[31m65.7 MB/s\u001b[0m eta \u001b[36m0:00:00\u001b[0m\n",
            "\u001b[?25hCollecting docopt (from hdfs<3.0.0,>=2.1.0->apache-beam<2.47.0->tensorflow_gnn)\n",
            "  Downloading docopt-0.6.2.tar.gz (25 kB)\n",
            "  Preparing metadata (setup.py) ... \u001b[?25l\u001b[?25hdone\n",
            "Requirement already satisfied: pyparsing!=3.0.0,!=3.0.1,!=3.0.2,!=3.0.3,<4,>=2.4.2 in /usr/local/lib/python3.10/dist-packages (from httplib2<0.22.0,>=0.8->apache-beam<2.47.0->tensorflow_gnn) (3.1.1)\n",
            "Requirement already satisfied: psutil in /usr/local/lib/python3.10/dist-packages (from portpicker>=1.3.1->google-vizier>=0.0.13->tensorflow_gnn) (5.9.5)\n",
            "Requirement already satisfied: charset-normalizer<4,>=2 in /usr/local/lib/python3.10/dist-packages (from requests<3.0.0,>=2.24.0->apache-beam<2.47.0->tensorflow_gnn) (3.2.0)\n",
            "Requirement already satisfied: idna<4,>=2.5 in /usr/local/lib/python3.10/dist-packages (from requests<3.0.0,>=2.24.0->apache-beam<2.47.0->tensorflow_gnn) (3.4)\n",
            "Requirement already satisfied: urllib3<3,>=1.21.1 in /usr/local/lib/python3.10/dist-packages (from requests<3.0.0,>=2.24.0->apache-beam<2.47.0->tensorflow_gnn) (2.0.4)\n",
            "Requirement already satisfied: certifi>=2017.4.17 in /usr/local/lib/python3.10/dist-packages (from requests<3.0.0,>=2.24.0->apache-beam<2.47.0->tensorflow_gnn) (2023.7.22)\n",
            "Requirement already satisfied: greenlet!=0.4.17 in /usr/local/lib/python3.10/dist-packages (from sqlalchemy<=1.4.20,>=1.4->google-vizier>=0.0.13->tensorflow_gnn) (2.0.2)\n",
            "Requirement already satisfied: google-auth<3,>=1.6.3 in /usr/local/lib/python3.10/dist-packages (from tensorboard<2.14,>=2.13->tensorflow>=2.10.0->tensorflow_gnn) (2.17.3)\n",
            "Requirement already satisfied: google-auth-oauthlib<1.1,>=0.5 in /usr/local/lib/python3.10/dist-packages (from tensorboard<2.14,>=2.13->tensorflow>=2.10.0->tensorflow_gnn) (1.0.0)\n",
            "Requirement already satisfied: markdown>=2.6.8 in /usr/local/lib/python3.10/dist-packages (from tensorboard<2.14,>=2.13->tensorflow>=2.10.0->tensorflow_gnn) (3.4.4)\n",
            "Requirement already satisfied: tensorboard-data-server<0.8.0,>=0.7.0 in /usr/local/lib/python3.10/dist-packages (from tensorboard<2.14,>=2.13->tensorflow>=2.10.0->tensorflow_gnn) (0.7.1)\n",
            "Requirement already satisfied: werkzeug>=1.0.1 in /usr/local/lib/python3.10/dist-packages (from tensorboard<2.14,>=2.13->tensorflow>=2.10.0->tensorflow_gnn) (2.3.7)\n",
            "Requirement already satisfied: cachetools<6.0,>=2.0.0 in /usr/local/lib/python3.10/dist-packages (from google-auth<3,>=1.6.3->tensorboard<2.14,>=2.13->tensorflow>=2.10.0->tensorflow_gnn) (5.3.1)\n",
            "Requirement already satisfied: pyasn1-modules>=0.2.1 in /usr/local/lib/python3.10/dist-packages (from google-auth<3,>=1.6.3->tensorboard<2.14,>=2.13->tensorflow>=2.10.0->tensorflow_gnn) (0.3.0)\n",
            "Requirement already satisfied: rsa<5,>=3.1.4 in /usr/local/lib/python3.10/dist-packages (from google-auth<3,>=1.6.3->tensorboard<2.14,>=2.13->tensorflow>=2.10.0->tensorflow_gnn) (4.9)\n",
            "Requirement already satisfied: requests-oauthlib>=0.7.0 in /usr/local/lib/python3.10/dist-packages (from google-auth-oauthlib<1.1,>=0.5->tensorboard<2.14,>=2.13->tensorflow>=2.10.0->tensorflow_gnn) (1.3.1)\n",
            "Requirement already satisfied: MarkupSafe>=2.1.1 in /usr/local/lib/python3.10/dist-packages (from werkzeug>=1.0.1->tensorboard<2.14,>=2.13->tensorflow>=2.10.0->tensorflow_gnn) (2.1.3)\n",
            "Requirement already satisfied: pyasn1<0.6.0,>=0.4.6 in /usr/local/lib/python3.10/dist-packages (from pyasn1-modules>=0.2.1->google-auth<3,>=1.6.3->tensorboard<2.14,>=2.13->tensorflow>=2.10.0->tensorflow_gnn) (0.5.0)\n",
            "Requirement already satisfied: oauthlib>=3.0.0 in /usr/local/lib/python3.10/dist-packages (from requests-oauthlib>=0.7.0->google-auth-oauthlib<1.1,>=0.5->tensorboard<2.14,>=2.13->tensorflow>=2.10.0->tensorflow_gnn) (3.2.2)\n",
            "Building wheels for collected packages: ml-collections, crcmod, dill, hdfs, sqlalchemy, docopt\n",
            "  Building wheel for ml-collections (setup.py) ... \u001b[?25l\u001b[?25hdone\n",
            "  Created wheel for ml-collections: filename=ml_collections-0.1.1-py3-none-any.whl size=94506 sha256=3ef8986f1670d11419d50fb3f98cefc942d12cc3a05ae8c25d7d7377214576f3\n",
            "  Stored in directory: /root/.cache/pip/wheels/7b/89/c9/a9b87790789e94aadcfc393c283e3ecd5ab916aed0a31be8fe\n",
            "  Building wheel for crcmod (setup.py) ... \u001b[?25l\u001b[?25hdone\n",
            "  Created wheel for crcmod: filename=crcmod-1.7-cp310-cp310-linux_x86_64.whl size=31406 sha256=4ba9f04d064aaca253e2b8caeb8f5e0faa1f03bc9be2192750e95a38df9f975f\n",
            "  Stored in directory: /root/.cache/pip/wheels/85/4c/07/72215c529bd59d67e3dac29711d7aba1b692f543c808ba9e86\n",
            "  Building wheel for dill (setup.py) ... \u001b[?25l\u001b[?25hdone\n",
            "  Created wheel for dill: filename=dill-0.3.1.1-py3-none-any.whl size=78542 sha256=287c9eb333d9b0ef49a6b6b654bd752365139d9e90906cb15750fb6de86ca7f1\n",
            "  Stored in directory: /root/.cache/pip/wheels/ea/e2/86/64980d90e297e7bf2ce588c2b96e818f5399c515c4bb8a7e4f\n",
            "  Building wheel for hdfs (setup.py) ... \u001b[?25l\u001b[?25hdone\n",
            "  Created wheel for hdfs: filename=hdfs-2.7.2-py3-none-any.whl size=34168 sha256=91b73b2ba2dc868b01ab9f515f3d2bd7581ba898057faf091e2f2f9fb2ef0d12\n",
            "  Stored in directory: /root/.cache/pip/wheels/ab/39/8e/e1905de9af8ae74911cd3e53e721995cd230816f63776e5825\n",
            "  Building wheel for sqlalchemy (setup.py) ... \u001b[?25l\u001b[?25hdone\n",
            "  Created wheel for sqlalchemy: filename=SQLAlchemy-1.4.20-cp310-cp310-linux_x86_64.whl size=1529865 sha256=bc44baa76c4135640c24f8bdbe0328a6f515e3c1a74e33efbafa36d32b33b0fa\n",
            "  Stored in directory: /root/.cache/pip/wheels/c4/42/20/a958989c470cc1a6fe1d1279b0193f0e508161327fc3d951d9\n",
            "  Building wheel for docopt (setup.py) ... \u001b[?25l\u001b[?25hdone\n",
            "  Created wheel for docopt: filename=docopt-0.6.2-py2.py3-none-any.whl size=13705 sha256=e03c9114bedae2f06d2710235b873b502183b30d7228f8c3a798ec7aa405b2d3\n",
            "  Stored in directory: /root/.cache/pip/wheels/fc/ab/d4/5da2067ac95b36618c629a5f93f809425700506f72c9732fac\n",
            "Successfully built ml-collections crcmod dill hdfs sqlalchemy docopt\n",
            "Installing collected packages: docopt, crcmod, zstandard, sqlalchemy, pymongo, orjson, objsize, ml-collections, httplib2, grpcio-tools, fasteners, fastavro, dill, hdfs, google-vizier, apache-beam, tensorflow_gnn\n",
            "  Attempting uninstall: sqlalchemy\n",
            "    Found existing installation: SQLAlchemy 2.0.20\n",
            "    Uninstalling SQLAlchemy-2.0.20:\n",
            "      Successfully uninstalled SQLAlchemy-2.0.20\n",
            "  Attempting uninstall: httplib2\n",
            "    Found existing installation: httplib2 0.22.0\n",
            "    Uninstalling httplib2-0.22.0:\n",
            "      Successfully uninstalled httplib2-0.22.0\n",
            "\u001b[31mERROR: pip's dependency resolver does not currently take into account all the packages that are installed. This behaviour is the source of the following dependency conflicts.\n",
            "ipython-sql 0.5.0 requires sqlalchemy>=2.0, but you have sqlalchemy 1.4.20 which is incompatible.\u001b[0m\u001b[31m\n",
            "\u001b[0mSuccessfully installed apache-beam-2.46.0 crcmod-1.7 dill-0.3.1.1 docopt-0.6.2 fastavro-1.8.3 fasteners-0.19 google-vizier-0.1.11 grpcio-tools-1.48.2 hdfs-2.7.2 httplib2-0.21.0 ml-collections-0.1.1 objsize-0.6.1 orjson-3.9.7 pymongo-3.13.0 sqlalchemy-1.4.20 tensorflow_gnn-0.6.0 zstandard-0.21.0\n"
          ]
        },
        {
          "output_type": "display_data",
          "data": {
            "application/vnd.colab-display-data+json": {
              "pip_warning": {
                "packages": [
                  "httplib2"
                ]
              }
            }
          },
          "metadata": {}
        }
      ],
      "source": [
        "!apt-get install -y python-rdkit librdkit1 rdkit-data\n",
        "!pip install rdkit\n",
        "!pip install tensorflow_gnn"
      ]
    },
    {
      "cell_type": "code",
      "source": [
        "from rdkit import Chem\n",
        "import networkx as nx\n",
        "import pandas as pd\n",
        "import numpy as np\n",
        "import networkx as nx\n",
        "import tensorflow as tf\n",
        "import tensorflow_gnn as tfgnn\n",
        "import urllib.request\n",
        "import io\n",
        "import zipfile\n",
        "import sys\n",
        "import os\n",
        "from tensorflow_gnn.models import gcn\n",
        "from tensorflow_gnn.models import graph_sage\n",
        "from google.protobuf import text_format\n",
        "import tensorflow_gnn.proto.graph_schema_pb2 as schema_pb2\n",
        "import matplotlib.pyplot as plt\n"
      ],
      "metadata": {
        "id": "YsJ6030Jguow"
      },
      "execution_count": null,
      "outputs": []
    },
    {
      "cell_type": "markdown",
      "source": [
        "# Declare GraphSchema"
      ],
      "metadata": {
        "id": "3RbGaWNHnLgl"
      }
    },
    {
      "cell_type": "code",
      "source": [
        "schema_pbtx = \"\"\"\n",
        "# proto-file: //third_party/py/tensorflow_gnn/proto/graph_schema.proto\n",
        "# proto-message: tensorflow_gnn.GraphSchema\n",
        "context {\n",
        "  features {\n",
        "    key: \"label\"\n",
        "    value: {\n",
        "      description: \"RON\"\n",
        "      dtype: DT_FLOAT\n",
        "    }\n",
        "  }\n",
        "}\n",
        "context {\n",
        "  features {\n",
        "    key: \"BP\"\n",
        "    value: {\n",
        "      description: \"BP\"\n",
        "      dtype: DT_FLOAT\n",
        "    }\n",
        "  }\n",
        "}\n",
        "context {\n",
        "  features {\n",
        "    key: \"HV\"\n",
        "    value: {\n",
        "      description: \"HV\"\n",
        "      dtype: DT_FLOAT\n",
        "    }\n",
        "  }\n",
        "}\n",
        "context {\n",
        "  features {\n",
        "    key: \"LD\"\n",
        "    value: {\n",
        "      description: \"LD\"\n",
        "      dtype: DT_FLOAT\n",
        "    }\n",
        "  }\n",
        "}\n",
        "node_sets {\n",
        "  key: \"atoms\"\n",
        "  value {\n",
        "    features {\n",
        "      key: \"hidden_state\"\n",
        "      value {\n",
        "        description: \"atom type.\"\n",
        "        dtype: DT_FLOAT\n",
        "        shape { dim { size: 200 } }\n",
        "      }\n",
        "    }\n",
        "  }\n",
        "}\n",
        "edge_sets {\n",
        "  key: \"bonds\"\n",
        "  value {\n",
        "    source: \"atoms\"\n",
        "    target: \"atoms\"\n",
        "    features {\n",
        "      key: \"hidden_state\"\n",
        "      value {\n",
        "        description: \"bond type.\"\n",
        "        dtype: DT_FLOAT\n",
        "        shape { dim { size: 3 } }\n",
        "      }\n",
        "    }\n",
        "  }\n",
        "}\n",
        "\"\"\"\n",
        "graph_schema = text_format.Merge(schema_pbtx, schema_pb2.GraphSchema())\n",
        "graph_tensor_spec = tfgnn.create_graph_spec_from_schema_pb(graph_schema)"
      ],
      "metadata": {
        "id": "NMi5bQCBg6Yj"
      },
      "execution_count": null,
      "outputs": []
    },
    {
      "cell_type": "code",
      "source": [
        "graph_tensor_spec"
      ],
      "metadata": {
        "colab": {
          "base_uri": "https://localhost:8080/"
        },
        "id": "bCnA2pThOwVu",
        "outputId": "d5b32918-d709-413f-cbb9-63219ac20056"
      },
      "execution_count": null,
      "outputs": [
        {
          "output_type": "execute_result",
          "data": {
            "text/plain": [
              "GraphTensorSpec({'context': ContextSpec({'features': {'BP': TensorSpec(shape=(1,), dtype=tf.float32, name=None), 'label': TensorSpec(shape=(1,), dtype=tf.float32, name=None), 'HV': TensorSpec(shape=(1,), dtype=tf.float32, name=None), 'LD': TensorSpec(shape=(1,), dtype=tf.float32, name=None)}, 'sizes': TensorSpec(shape=(1,), dtype=tf.int32, name=None)}, TensorShape([]), tf.int32, None), 'node_sets': {'atoms': NodeSetSpec({'features': {'hidden_state': TensorSpec(shape=(None, 200), dtype=tf.float32, name=None)}, 'sizes': TensorSpec(shape=(1,), dtype=tf.int32, name=None)}, TensorShape([]), tf.int32, None)}, 'edge_sets': {'bonds': EdgeSetSpec({'features': {'hidden_state': TensorSpec(shape=(None, 3), dtype=tf.float32, name=None)}, 'sizes': TensorSpec(shape=(1,), dtype=tf.int32, name=None), 'adjacency': AdjacencySpec({'#index.0': TensorSpec(shape=(None,), dtype=tf.int32, name=None), '#index.1': TensorSpec(shape=(None,), dtype=tf.int32, name=None)}, TensorShape([]), tf.int32, {'#index.0': 'atoms', '#index.1': 'atoms'})}, TensorShape([]), tf.int32, None)}}, TensorShape([]), tf.int32, None)"
            ]
          },
          "metadata": {},
          "execution_count": 4
        }
      ]
    },
    {
      "cell_type": "markdown",
      "source": [
        "# Dataset path"
      ],
      "metadata": {
        "id": "mlklu9vMnFP8"
      }
    },
    {
      "cell_type": "code",
      "source": [
        "import tempfile\n",
        "train_path = os.path.join(tempfile.gettempdir(), \"/content/drive/MyDrive/RON_GNN_datasets/train_RON_DATASET_at_emb_TFR.tfrecords\")\n",
        "val_path = os.path.join(tempfile.gettempdir(), \"/content/drive/MyDrive/RON_GNN_datasets/val_RON_DATASET_at_emb_TFR.tfrecords\")"
      ],
      "metadata": {
        "id": "k0p_Edmdhfuq"
      },
      "execution_count": null,
      "outputs": []
    },
    {
      "cell_type": "markdown",
      "source": [
        "# Decode function and dataset to var\n",
        "\n"
      ],
      "metadata": {
        "id": "bzRLHD-am9dW"
      }
    },
    {
      "cell_type": "code",
      "source": [
        "def decode_fn(record_bytes):\n",
        "  graph = tfgnn.parse_single_example(\n",
        "      graph_tensor_spec, record_bytes, validate=True)\n",
        "\n",
        "  # extract label from context and remove from input graph\n",
        "  context_features = graph.context.get_features_dict()\n",
        "  label = context_features.pop('label')\n",
        "  new_graph = graph.replace_features(context=context_features)\n",
        "\n",
        "  return new_graph, label"
      ],
      "metadata": {
        "id": "JOslMFSnhw-g"
      },
      "execution_count": null,
      "outputs": []
    },
    {
      "cell_type": "code",
      "source": [
        "train_ds = tf.data.TFRecordDataset([train_path]).map(decode_fn)\n",
        "val_ds = tf.data.TFRecordDataset([val_path]).map(decode_fn)"
      ],
      "metadata": {
        "id": "CyxRLMwAiClv"
      },
      "execution_count": null,
      "outputs": []
    },
    {
      "cell_type": "markdown",
      "source": [
        "# Verification of a single graph in the datasets"
      ],
      "metadata": {
        "id": "HUpnR81km4ua"
      }
    },
    {
      "cell_type": "code",
      "source": [
        "g, y = train_ds.take(1).get_single_element()"
      ],
      "metadata": {
        "id": "ZMnCsr-li_-T"
      },
      "execution_count": null,
      "outputs": []
    },
    {
      "cell_type": "code",
      "source": [
        "g"
      ],
      "metadata": {
        "colab": {
          "base_uri": "https://localhost:8080/"
        },
        "id": "HVAxRLXTjMZr",
        "outputId": "77f01627-3969-4b1e-a212-ee8c467d589d"
      },
      "execution_count": null,
      "outputs": [
        {
          "output_type": "execute_result",
          "data": {
            "text/plain": [
              "GraphTensor(\n",
              "  context=Context(features={'BP': <tf.Tensor: shape=(1,), dtype=tf.float32>, 'HV': <tf.Tensor: shape=(1,), dtype=tf.float32>, 'LD': <tf.Tensor: shape=(1,), dtype=tf.float32>}, sizes=[1], shape=(), indices_dtype=tf.int32),\n",
              "  node_set_names=['atoms'],\n",
              "  edge_set_names=['bonds'])"
            ]
          },
          "metadata": {},
          "execution_count": 9
        }
      ]
    },
    {
      "cell_type": "code",
      "source": [
        "y"
      ],
      "metadata": {
        "colab": {
          "base_uri": "https://localhost:8080/"
        },
        "id": "fbUKA23NjOTW",
        "outputId": "c68a5a1e-3c4f-4d08-d160-25948c29fdeb"
      },
      "execution_count": null,
      "outputs": [
        {
          "output_type": "execute_result",
          "data": {
            "text/plain": [
              "<tf.Tensor: shape=(1,), dtype=float32, numpy=array([0.8270989], dtype=float32)>"
            ]
          },
          "metadata": {},
          "execution_count": 10
        }
      ]
    },
    {
      "cell_type": "code",
      "source": [
        "g.node_sets['atoms']"
      ],
      "metadata": {
        "colab": {
          "base_uri": "https://localhost:8080/"
        },
        "id": "xdJcM0KFjiAP",
        "outputId": "22a717a2-ef6b-4eb4-f0a7-4b7b646ad20e"
      },
      "execution_count": null,
      "outputs": [
        {
          "output_type": "execute_result",
          "data": {
            "text/plain": [
              "NodeSet(features={'hidden_state': <tf.Tensor: shape=(24, 200), dtype=tf.float32>}, sizes=[24])"
            ]
          },
          "metadata": {},
          "execution_count": 11
        }
      ]
    },
    {
      "cell_type": "code",
      "source": [
        "g.node_sets['atoms'].features[tfgnn.HIDDEN_STATE]"
      ],
      "metadata": {
        "colab": {
          "base_uri": "https://localhost:8080/"
        },
        "id": "Cp0IvoJgknd2",
        "outputId": "5e291d48-e824-4924-9b94-1292538249ae"
      },
      "execution_count": null,
      "outputs": [
        {
          "output_type": "execute_result",
          "data": {
            "text/plain": [
              "<tf.Tensor: shape=(24, 200), dtype=float32, numpy=\n",
              "array([[-0.02823115,  0.0383647 , -0.29129818, ...,  0.00782956,\n",
              "        -0.05795917,  0.02510627],\n",
              "       [-0.02823115,  0.0383647 , -0.29129818, ...,  0.00782956,\n",
              "        -0.05795917,  0.02510627],\n",
              "       [-0.02823115,  0.0383647 , -0.29129818, ...,  0.00782956,\n",
              "        -0.05795917,  0.02510627],\n",
              "       ...,\n",
              "       [-0.01091546, -0.03660307,  0.2754273 , ...,  0.06288143,\n",
              "         0.02511847,  0.10804436],\n",
              "       [-0.01091546, -0.03660307,  0.2754273 , ...,  0.06288143,\n",
              "         0.02511847,  0.10804436],\n",
              "       [-0.01091546, -0.03660307,  0.2754273 , ...,  0.06288143,\n",
              "         0.02511847,  0.10804436]], dtype=float32)>"
            ]
          },
          "metadata": {},
          "execution_count": 12
        }
      ]
    },
    {
      "cell_type": "code",
      "source": [
        "g.edge_sets['bonds'].adjacency.source"
      ],
      "metadata": {
        "colab": {
          "base_uri": "https://localhost:8080/"
        },
        "id": "MpanGjDxksFT",
        "outputId": "9ddded03-ebc7-4037-9714-7817dad7b105"
      },
      "execution_count": null,
      "outputs": [
        {
          "output_type": "execute_result",
          "data": {
            "text/plain": [
              "<tf.Tensor: shape=(46,), dtype=int32, numpy=\n",
              "array([ 0,  0,  0,  0,  1,  1,  1,  2,  2,  2,  3,  3,  3,  4,  4,  4,  5,\n",
              "        5,  6,  6,  6,  7,  7,  1,  8,  9, 10,  2, 11, 12,  3,  5, 13,  4,\n",
              "       14, 15, 16, 17, 18,  6,  7, 19, 20, 21, 22, 23], dtype=int32)>"
            ]
          },
          "metadata": {},
          "execution_count": 13
        }
      ]
    },
    {
      "cell_type": "code",
      "source": [
        "g.edge_sets['bonds'].adjacency.target"
      ],
      "metadata": {
        "colab": {
          "base_uri": "https://localhost:8080/"
        },
        "id": "pSqMaU00kvE8",
        "outputId": "4d2f5888-aee4-4433-c09f-1f10b8385057"
      },
      "execution_count": null,
      "outputs": [
        {
          "output_type": "execute_result",
          "data": {
            "text/plain": [
              "<tf.Tensor: shape=(46,), dtype=int32, numpy=\n",
              "array([ 1,  8,  9, 10,  2, 11, 12,  3,  5, 13,  4, 14, 15, 16, 17, 18,  6,\n",
              "        7, 19, 20, 21, 22, 23,  0,  0,  0,  0,  1,  1,  1,  2,  2,  2,  3,\n",
              "        3,  3,  4,  4,  4,  5,  5,  6,  6,  6,  7,  7], dtype=int32)>"
            ]
          },
          "metadata": {},
          "execution_count": 14
        }
      ]
    },
    {
      "cell_type": "code",
      "source": [
        "g.edge_sets['bonds'].features[tfgnn.HIDDEN_STATE]"
      ],
      "metadata": {
        "colab": {
          "base_uri": "https://localhost:8080/"
        },
        "id": "1CT3sIYVkxRX",
        "outputId": "cc08cb0e-49e3-40f8-9b4d-a7e9e7ec4f14"
      },
      "execution_count": null,
      "outputs": [
        {
          "output_type": "execute_result",
          "data": {
            "text/plain": [
              "<tf.Tensor: shape=(46, 3), dtype=float32, numpy=\n",
              "array([[1., 0., 0.],\n",
              "       [1., 0., 0.],\n",
              "       [1., 0., 0.],\n",
              "       [1., 0., 0.],\n",
              "       [1., 0., 0.],\n",
              "       [1., 0., 0.],\n",
              "       [1., 0., 0.],\n",
              "       [1., 0., 0.],\n",
              "       [1., 0., 0.],\n",
              "       [1., 0., 0.],\n",
              "       [1., 0., 0.],\n",
              "       [1., 0., 0.],\n",
              "       [1., 0., 0.],\n",
              "       [1., 0., 0.],\n",
              "       [1., 0., 0.],\n",
              "       [1., 0., 0.],\n",
              "       [1., 0., 0.],\n",
              "       [0., 0., 1.],\n",
              "       [1., 0., 0.],\n",
              "       [1., 0., 0.],\n",
              "       [1., 0., 0.],\n",
              "       [1., 0., 0.],\n",
              "       [1., 0., 0.],\n",
              "       [1., 0., 0.],\n",
              "       [1., 0., 0.],\n",
              "       [1., 0., 0.],\n",
              "       [1., 0., 0.],\n",
              "       [1., 0., 0.],\n",
              "       [1., 0., 0.],\n",
              "       [1., 0., 0.],\n",
              "       [1., 0., 0.],\n",
              "       [1., 0., 0.],\n",
              "       [1., 0., 0.],\n",
              "       [1., 0., 0.],\n",
              "       [1., 0., 0.],\n",
              "       [1., 0., 0.],\n",
              "       [1., 0., 0.],\n",
              "       [1., 0., 0.],\n",
              "       [1., 0., 0.],\n",
              "       [1., 0., 0.],\n",
              "       [0., 0., 1.],\n",
              "       [1., 0., 0.],\n",
              "       [1., 0., 0.],\n",
              "       [1., 0., 0.],\n",
              "       [1., 0., 0.],\n",
              "       [1., 0., 0.]], dtype=float32)>"
            ]
          },
          "metadata": {},
          "execution_count": 15
        }
      ]
    },
    {
      "cell_type": "code",
      "source": [
        "g.node_sets[\"atoms\"].sizes"
      ],
      "metadata": {
        "colab": {
          "base_uri": "https://localhost:8080/"
        },
        "id": "Ux3T97Jq5reM",
        "outputId": "d3846f3f-52bb-49f9-ea07-08174b0dbd67"
      },
      "execution_count": null,
      "outputs": [
        {
          "output_type": "execute_result",
          "data": {
            "text/plain": [
              "<tf.Tensor: shape=(1,), dtype=int32, numpy=array([24], dtype=int32)>"
            ]
          },
          "metadata": {},
          "execution_count": 16
        }
      ]
    },
    {
      "cell_type": "code",
      "source": [
        "g.context[\"BP\"]"
      ],
      "metadata": {
        "colab": {
          "base_uri": "https://localhost:8080/"
        },
        "id": "IwC4PvU69jDq",
        "outputId": "899670a3-ca64-423a-8055-09be7e2fd9fc"
      },
      "execution_count": null,
      "outputs": [
        {
          "output_type": "execute_result",
          "data": {
            "text/plain": [
              "<tf.Tensor: shape=(1,), dtype=float32, numpy=array([0.5289855], dtype=float32)>"
            ]
          },
          "metadata": {},
          "execution_count": 83
        }
      ]
    },
    {
      "cell_type": "markdown",
      "source": [
        "# Batching"
      ],
      "metadata": {
        "id": "CpdNaD7JNMDp"
      }
    },
    {
      "cell_type": "code",
      "source": [
        "batch_size = 32 #@param {type:\"integer\"}\n",
        "\n",
        "train_ds_batched = train_ds.batch(batch_size=batch_size).repeat()\n",
        "val_ds_batched = val_ds.batch(batch_size=batch_size)"
      ],
      "metadata": {
        "id": "CX8lJMaONPqY"
      },
      "execution_count": null,
      "outputs": []
    },
    {
      "cell_type": "markdown",
      "source": [
        "# GAT model"
      ],
      "metadata": {
        "id": "M4wO4EDQfwlN"
      }
    },
    {
      "cell_type": "code",
      "source": [
        "from tensorflow_gnn.models import gat_v2"
      ],
      "metadata": {
        "id": "3wxxThxGVB6d"
      },
      "execution_count": null,
      "outputs": []
    },
    {
      "cell_type": "code",
      "source": [
        "class MPNN(tf.keras.layers.Layer):\n",
        "    \"\"\"\n",
        "    A basic stack of message-passing Graph Attention layers.\n",
        "    \"\"\"\n",
        "    def __init__(self, hidden_size, hops, heads, name='gat_mpnn', **kwargs):\n",
        "        self.hidden_size = hidden_size\n",
        "        self.hops = hops\n",
        "        self.heads = heads\n",
        "        super().__init__(name=name, **kwargs)\n",
        "\n",
        "        self.mp_layers = [self._mp_factory(name=f'message_passing_{i}') for i in range(hops)]\n",
        "\n",
        "    # def _mp_factory(self, name):\n",
        "    #   return gat_v2.GATv2HomGraphUpdate(\n",
        "    #                                     num_heads=self.heads,\n",
        "    #                                     per_head_channels=self.hidden_size,\n",
        "    #                                     receiver_tag = tfgnn.SOURCE,\n",
        "    #                                     feature_name = tfgnn.HIDDEN_STATE,\n",
        "    #                                     heads_merge_type='mean',\n",
        "    #                                     name='gat_v2')\n",
        "\n",
        "    def _mp_factory(self, name):\n",
        "      return gat_v2.GATv2GraphUpdate(num_heads=self.heads,\n",
        "                                    per_head_channels=self.hidden_size,\n",
        "                                    edge_set_name='bond',\n",
        "                                    sender_edge_feature=tfgnn.HIDDEN_STATE,\n",
        "                                    name=name)\n",
        "\n",
        "    def get_config(self):\n",
        "        config = super().get_config()\n",
        "        config.update({\n",
        "            'hidden_size': self.hidden_size,\n",
        "            'hops': self.hops,\n",
        "            \"heads\":self.heads\n",
        "        })\n",
        "        return config\n",
        "\n",
        "    def call(self, graph_tensor):\n",
        "        for layer in self.mp_layers:\n",
        "            graph_tensor = layer(graph_tensor)\n",
        "        return graph_tensor"
      ],
      "metadata": {
        "id": "CEiSChBRgITj"
      },
      "execution_count": null,
      "outputs": []
    },
    {
      "cell_type": "code",
      "source": [
        "from tensorflow.python.eager.context import context\n",
        "graph_convolution_type = \"default\"\n",
        "def _build_model_GAT(\n",
        "    graph_tensor_spec,\n",
        "    node_dim=16,\n",
        "    edge_dim=16,\n",
        "    hidden_size=128,\n",
        "    node_state_dim=64,\n",
        "    hops=8,\n",
        "    heads=8,\n",
        "    l2_regularization=5e-4,\n",
        "    dropout_rate=0.5,\n",
        "):\n",
        "\n",
        "  input_graph = tf.keras.layers.Input(type_spec=graph_tensor_spec)\n",
        "\n",
        "  graph = input_graph.merge_batch_to_components()\n",
        "\n",
        "  liq_dens = tf.expand_dims(graph.context.features[\"LD\"], axis = -1)\n",
        "  heat_vap = tf.expand_dims(graph.context.features[\"HV\"], axis = -1)\n",
        "  boil_point = tf.expand_dims(graph.context.features[\"BP\"], axis = -1)\n",
        "  num_atoms = tf.expand_dims(tf.cast(graph.node_sets[\"atoms\"].sizes, dtype=tf.float32), axis=-1)\n",
        "  num_bonds = tf.expand_dims(tf.cast(graph.edge_sets[\"bonds\"].sizes, dtype=tf.float32), axis=-1)\n",
        "  graph = graph.replace_features(\n",
        "      context={\n",
        "          tfgnn.HIDDEN_STATE: (tf.concat([liq_dens, heat_vap, boil_point, num_atoms, num_bonds], axis=1))\n",
        "          })\n",
        "\n",
        "  def set_initial_context_state(context):\n",
        "    return tf.keras.layers.Dense(node_dim)(context[tfgnn.HIDDEN_STATE])\n",
        "\n",
        "  def set_initial_node_state(node_set, *, node_set_name):\n",
        "    return tf.keras.layers.Dense(node_dim, activation=\"relu\")(node_set[tfgnn.HIDDEN_STATE])\n",
        "\n",
        "  def set_initial_edge_state(edge_set, *, edge_set_name):\n",
        "    if graph_convolution_type != \"default\":\n",
        "      return {}\n",
        "    return tf.keras.layers.Dense(edge_dim, activation=\"relu\")(edge_set[tfgnn.HIDDEN_STATE])\n",
        "\n",
        "  graph = tfgnn.keras.layers.MapFeatures(node_sets_fn=set_initial_node_state, edge_sets_fn=set_initial_edge_state, context_fn=set_initial_context_state)(\n",
        "          graph)\n",
        "\n",
        "\n",
        "\n",
        "\n",
        "\n",
        "  # num_atoms = tf.expand_dims(tf.cast(graph.node_sets[\"atoms\"].sizes, dtype=tf.float32), axis=-1)\n",
        "  # num_bonds = tf.expand_dims(tf.cast(graph.edge_sets[\"bonds\"].sizes, dtype=tf.float32), axis=-1)\n",
        "  # graph = graph.replace_features(\n",
        "  #     context={\n",
        "  #         tfgnn.HIDDEN_STATE: tf.concat([num_atoms, num_bonds], axis=1)\n",
        "  #         })\n",
        "\n",
        "\n",
        "  mpnn = MPNN(hidden_size, hops, heads)\n",
        "  graph = mpnn(graph)\n",
        "\n",
        "  # This helper function is just a short-hand for the code below.\n",
        "\n",
        "  # def dense(units, activation=\"relu\"):\n",
        "  #   \"\"\"A Dense layer with regularization (L2 and Dropout).\"\"\"\n",
        "  #   regularizer = tf.keras.regularizers.l2(l2_regularization)\n",
        "  #   return tf.keras.Sequential([\n",
        "  #       tf.keras.layers.Dense(\n",
        "  #           units,\n",
        "  #           activation=activation,\n",
        "  #           kernel_regularizer=regularizer,\n",
        "  #           bias_regularizer=regularizer),\n",
        "  #       tf.keras.layers.Dropout(dropout_rate)\n",
        "  #   ])\n",
        "\n",
        "  # for i in range(hops):\n",
        "  #   graph = tfgnn.keras.layers.GraphUpdate(\n",
        "  #       node_sets={\"atoms\": tfgnn.keras.layers.NodeSetUpdate(\n",
        "  #           {\"bonds\": gat_v2.GATv2Conv(\n",
        "  #               num_heads=heads,\n",
        "  #               per_head_channels=hidden_size,\n",
        "  #               receiver_tag=tfgnn.TARGET,\n",
        "  #               sender_edge_feature=tfgnn.HIDDEN_STATE,\n",
        "  #               heads_merge_type='concat')},\n",
        "  #           tfgnn.keras.layers.NextStateFromConcat(dense(node_state_dim)))}\n",
        "  #   )(graph)\n",
        "\n",
        "  # graph = tfgnn.keras.layers.GraphUpdate(\n",
        "  #     context=tfgnn.keras.layers.ContextUpdate(\n",
        "  #         {\"atoms\": gat_v2.GATv2Conv(\n",
        "  #             num_heads=heads,\n",
        "  #             per_head_channels=hidden_size,\n",
        "  #             receiver_tag=tfgnn.CONTEXT,\n",
        "  #             sender_edge_feature=None,\n",
        "  #             sender_node_feature=tfgnn.HIDDEN_STATE,\n",
        "  #             heads_merge_type='concat')},\n",
        "  #         tfgnn.keras.layers.NextStateFromConcat(dense(node_state_dim)))\n",
        "  # )(graph)\n",
        "\n",
        "  readout_features = tfgnn.keras.layers.Pool(\n",
        "      tfgnn.CONTEXT, \"mean\", node_set_name=\"atoms\")(graph)\n",
        "\n",
        "  feat = tf.concat([readout_features, graph.context[tfgnn.HIDDEN_STATE]], axis=1)\n",
        "  fn_dense = tf.keras.layers.Dense(16, activation=\"relu\")(feat)\n",
        "  logits = tf.keras.layers.Dense(1)(fn_dense)\n",
        "\n",
        "  return tf.keras.Model(inputs=[input_graph], outputs=[logits])"
      ],
      "metadata": {
        "id": "6AAHRD-giJmR"
      },
      "execution_count": null,
      "outputs": []
    },
    {
      "cell_type": "code",
      "source": [
        "node_dim = 32 #@param {type:\"integer\"}\n",
        "edge_dim = 32 #@param {type:\"integer\"}\n",
        "hidden_size = 64 #@param {type:\"integer\"}\n",
        "hops = 2 #@param {type:\"integer\"}\n",
        "node_state_dim = 32 #@param {type:\"number\"}\n",
        "l2_regularization = 5e-4 #@param {type:\"number\"}\n",
        "dropout_rate = 0.5 #@param {type:\"number\"}\n",
        "heads = 4 #@param {type:\"number\"}\n",
        "\n",
        "del model\n",
        "\n",
        "model_input_graph_spec, label_spec = train_ds.element_spec\n",
        "model = _build_model_GAT(model_input_graph_spec,\n",
        "                     node_dim=node_dim,\n",
        "                     edge_dim=edge_dim,\n",
        "                     hidden_size=hidden_size,\n",
        "                     hops=hops,\n",
        "                     node_state_dim=node_state_dim,\n",
        "                     l2_regularization=l2_regularization,\n",
        "                     dropout_rate=dropout_rate)"
      ],
      "metadata": {
        "id": "nElboHKJkQfi"
      },
      "execution_count": null,
      "outputs": []
    },
    {
      "cell_type": "code",
      "source": [
        "loss = tf.keras.losses.MeanAbsoluteError()\n",
        "metrics = [tf.keras.metrics.MeanAbsoluteError()]"
      ],
      "metadata": {
        "id": "ZLDQiw7Jj9gW"
      },
      "execution_count": null,
      "outputs": []
    },
    {
      "cell_type": "code",
      "source": [
        "learning_rate = 1e-4 #@param {type:\"number\"}\n",
        "learning_rate_decay = True #@param {type:\"boolean\"}\n",
        "steps_per_epoch = 10 #@param {type:\"integer\"}\n",
        "epochs = 300 #@param {type:\"integer\"}\n",
        "\n",
        "if learning_rate_decay:\n",
        "  learning_rate = tf.keras.optimizers.schedules.CosineDecay(learning_rate, steps_per_epoch*epochs)\n",
        "\n",
        "optimizer = tf.keras.optimizers.Adam(learning_rate=learning_rate)\n",
        "\n",
        "model.compile(optimizer, loss=loss, metrics=metrics)\n",
        "model.summary()"
      ],
      "metadata": {
        "colab": {
          "base_uri": "https://localhost:8080/"
        },
        "id": "z-1mHKE4kCig",
        "outputId": "8ac7dea3-93f8-4691-8fd1-7b9ee9602d19"
      },
      "execution_count": null,
      "outputs": [
        {
          "output_type": "stream",
          "name": "stdout",
          "text": [
            "Model: \"model_23\"\n",
            "__________________________________________________________________________________________________\n",
            " Layer (type)                Output Shape                 Param #   Connected to                  \n",
            "==================================================================================================\n",
            " input_173 (InputLayer)      [()]                         0         []                            \n",
            "                                                                                                  \n",
            " input.merge_batch_to_compo  ()                           0         ['input_173[0][0]']           \n",
            " nents_61 (InstanceMethod)                                                                        \n",
            "                                                                                                  \n",
            " input.node_sets_57 (Instan  {'atoms': ()}                0         ['input.merge_batch_to_compone\n",
            " ceProperty)                                                        nts_61[0][0]']                \n",
            "                                                                                                  \n",
            " input.edge_sets_57 (Instan  {'bonds': ()}                0         ['input.merge_batch_to_compone\n",
            " ceProperty)                                                        nts_61[0][0]']                \n",
            "                                                                                                  \n",
            " input.context_201 (Instanc  ()                           0         ['input.merge_batch_to_compone\n",
            " eProperty)                                                         nts_61[0][0]']                \n",
            "                                                                                                  \n",
            " input.context_202 (Instanc  ()                           0         ['input.merge_batch_to_compone\n",
            " eProperty)                                                         nts_61[0][0]']                \n",
            "                                                                                                  \n",
            " input.context_203 (Instanc  ()                           0         ['input.merge_batch_to_compone\n",
            " eProperty)                                                         nts_61[0][0]']                \n",
            "                                                                                                  \n",
            " input.sizes_114 (InstanceP  (1,)                         0         ['input.node_sets_57[0][0]']  \n",
            " roperty)                                                                                         \n",
            "                                                                                                  \n",
            " input.sizes_115 (InstanceP  (1,)                         0         ['input.edge_sets_57[0][0]']  \n",
            " roperty)                                                                                         \n",
            "                                                                                                  \n",
            " input.features_361 (Instan  {'BP': (1,),                 0         ['input.context_201[0][0]']   \n",
            " ceProperty)                  'HV': (1,),                                                         \n",
            "                              'LD': (1,)}                                                         \n",
            "                                                                                                  \n",
            " input.features_362 (Instan  {'BP': (1,),                 0         ['input.context_202[0][0]']   \n",
            " ceProperty)                  'HV': (1,),                                                         \n",
            "                              'LD': (1,)}                                                         \n",
            "                                                                                                  \n",
            " input.features_363 (Instan  {'BP': (1,),                 0         ['input.context_203[0][0]']   \n",
            " ceProperty)                  'HV': (1,),                                                         \n",
            "                              'LD': (1,)}                                                         \n",
            "                                                                                                  \n",
            " tf.cast_114 (TFOpLambda)    (1,)                         0         ['input.sizes_114[0][0]']     \n",
            "                                                                                                  \n",
            " tf.cast_115 (TFOpLambda)    (1,)                         0         ['input.sizes_115[0][0]']     \n",
            "                                                                                                  \n",
            " tf.expand_dims_285 (TFOpLa  (1, 1)                       0         ['input.features_361[0][2]']  \n",
            " mbda)                                                                                            \n",
            "                                                                                                  \n",
            " tf.expand_dims_286 (TFOpLa  (1, 1)                       0         ['input.features_362[0][1]']  \n",
            " mbda)                                                                                            \n",
            "                                                                                                  \n",
            " tf.expand_dims_287 (TFOpLa  (1, 1)                       0         ['input.features_363[0][0]']  \n",
            " mbda)                                                                                            \n",
            "                                                                                                  \n",
            " tf.expand_dims_288 (TFOpLa  (1, 1)                       0         ['tf.cast_114[0][0]']         \n",
            " mbda)                                                                                            \n",
            "                                                                                                  \n",
            " tf.expand_dims_289 (TFOpLa  (1, 1)                       0         ['tf.cast_115[0][0]']         \n",
            " mbda)                                                                                            \n",
            "                                                                                                  \n",
            " tf.concat_86 (TFOpLambda)   (1, 5)                       0         ['tf.expand_dims_285[0][0]',  \n",
            "                                                                     'tf.expand_dims_286[0][0]',  \n",
            "                                                                     'tf.expand_dims_287[0][0]',  \n",
            "                                                                     'tf.expand_dims_288[0][0]',  \n",
            "                                                                     'tf.expand_dims_289[0][0]']  \n",
            "                                                                                                  \n",
            " input.replace_features_55   ()                           0         ['input.merge_batch_to_compone\n",
            " (InstanceMethod)                                                   nts_61[0][0]',                \n",
            "                                                                     'tf.concat_86[0][0]']        \n",
            "                                                                                                  \n",
            " map_features_59 (MapFeatur  ()                           6752      ['input.replace_features_55[0]\n",
            " es)                                                                [0]']                         \n",
            "                                                                                                  \n",
            " gat_mpnn (MPNN)             ()                           592896    ['map_features_59[0][0]']     \n",
            "                                                                                                  \n",
            " input.context_204 (Instanc  ()                           0         ['gat_mpnn[0][0]']            \n",
            " eProperty)                                                                                       \n",
            "                                                                                                  \n",
            " pool_29 (Pool)              (1, 512)                     0         ['gat_mpnn[0][0]']            \n",
            "                                                                                                  \n",
            " input._get_features_ref_12  {'hidden_state': (1, 32)}    0         ['input.context_204[0][0]']   \n",
            " 9 (InstanceProperty)                                                                             \n",
            "                                                                                                  \n",
            " tf.concat_87 (TFOpLambda)   (1, 544)                     0         ['pool_29[0][0]',             \n",
            "                                                                     'input._get_features_ref_129[\n",
            "                                                                    0][0]']                       \n",
            "                                                                                                  \n",
            " dense_99 (Dense)            (1, 16)                      8720      ['tf.concat_87[0][0]']        \n",
            "                                                                                                  \n",
            " dense_100 (Dense)           (1, 1)                       17        ['dense_99[0][0]']            \n",
            "                                                                                                  \n",
            "==================================================================================================\n",
            "Total params: 608385 (2.32 MB)\n",
            "Trainable params: 608385 (2.32 MB)\n",
            "Non-trainable params: 0 (0.00 Byte)\n",
            "__________________________________________________________________________________________________\n"
          ]
        }
      ]
    },
    {
      "cell_type": "code",
      "source": [
        "history = model.fit(train_ds_batched,\n",
        "                    steps_per_epoch=steps_per_epoch,\n",
        "                    epochs=epochs,\n",
        "                    validation_data=val_ds_batched)\n"
      ],
      "metadata": {
        "colab": {
          "base_uri": "https://localhost:8080/"
        },
        "id": "QovI1sLdkm1N",
        "outputId": "d6783ea3-e776-480c-b2d9-db96a9d71e9e"
      },
      "execution_count": null,
      "outputs": [
        {
          "output_type": "stream",
          "name": "stdout",
          "text": [
            "Epoch 1/300\n",
            "10/10 [==============================] - 8s 88ms/step - loss: 5.3326 - mean_absolute_error: 5.3326 - val_loss: 5.3444 - val_mean_absolute_error: 5.3444\n",
            "Epoch 2/300\n",
            "10/10 [==============================] - 0s 25ms/step - loss: 4.5276 - mean_absolute_error: 4.5276 - val_loss: 4.2557 - val_mean_absolute_error: 4.2557\n",
            "Epoch 3/300\n",
            "10/10 [==============================] - 0s 33ms/step - loss: 3.5312 - mean_absolute_error: 3.5312 - val_loss: 3.2205 - val_mean_absolute_error: 3.2205\n",
            "Epoch 4/300\n",
            "10/10 [==============================] - 0s 25ms/step - loss: 2.5859 - mean_absolute_error: 2.5859 - val_loss: 2.2990 - val_mean_absolute_error: 2.2990\n",
            "Epoch 5/300\n",
            "10/10 [==============================] - 0s 34ms/step - loss: 1.6471 - mean_absolute_error: 1.6471 - val_loss: 1.2810 - val_mean_absolute_error: 1.2810\n",
            "Epoch 6/300\n",
            "10/10 [==============================] - 0s 27ms/step - loss: 0.7202 - mean_absolute_error: 0.7202 - val_loss: 0.2401 - val_mean_absolute_error: 0.2401\n",
            "Epoch 7/300\n",
            "10/10 [==============================] - 0s 25ms/step - loss: 0.3224 - mean_absolute_error: 0.3224 - val_loss: 0.3607 - val_mean_absolute_error: 0.3607\n",
            "Epoch 8/300\n",
            "10/10 [==============================] - 0s 33ms/step - loss: 0.2476 - mean_absolute_error: 0.2476 - val_loss: 0.1673 - val_mean_absolute_error: 0.1673\n",
            "Epoch 9/300\n",
            "10/10 [==============================] - 0s 32ms/step - loss: 0.1753 - mean_absolute_error: 0.1753 - val_loss: 0.1678 - val_mean_absolute_error: 0.1678\n",
            "Epoch 10/300\n",
            "10/10 [==============================] - 0s 32ms/step - loss: 0.1258 - mean_absolute_error: 0.1258 - val_loss: 0.1595 - val_mean_absolute_error: 0.1595\n",
            "Epoch 11/300\n",
            "10/10 [==============================] - 0s 25ms/step - loss: 0.1476 - mean_absolute_error: 0.1476 - val_loss: 0.1557 - val_mean_absolute_error: 0.1557\n",
            "Epoch 12/300\n",
            "10/10 [==============================] - 0s 27ms/step - loss: 0.1433 - mean_absolute_error: 0.1433 - val_loss: 0.1524 - val_mean_absolute_error: 0.1524\n",
            "Epoch 13/300\n",
            "10/10 [==============================] - 0s 34ms/step - loss: 0.1197 - mean_absolute_error: 0.1197 - val_loss: 0.1493 - val_mean_absolute_error: 0.1493\n",
            "Epoch 14/300\n",
            "10/10 [==============================] - 0s 25ms/step - loss: 0.1351 - mean_absolute_error: 0.1351 - val_loss: 0.1584 - val_mean_absolute_error: 0.1584\n",
            "Epoch 15/300\n",
            "10/10 [==============================] - 0s 26ms/step - loss: 0.1453 - mean_absolute_error: 0.1453 - val_loss: 0.1479 - val_mean_absolute_error: 0.1479\n",
            "Epoch 16/300\n",
            "10/10 [==============================] - 0s 24ms/step - loss: 0.1469 - mean_absolute_error: 0.1469 - val_loss: 0.1458 - val_mean_absolute_error: 0.1458\n",
            "Epoch 17/300\n",
            "10/10 [==============================] - 0s 24ms/step - loss: 0.1568 - mean_absolute_error: 0.1568 - val_loss: 0.1544 - val_mean_absolute_error: 0.1544\n",
            "Epoch 18/300\n",
            "10/10 [==============================] - 0s 25ms/step - loss: 0.1215 - mean_absolute_error: 0.1215 - val_loss: 0.1446 - val_mean_absolute_error: 0.1446\n",
            "Epoch 19/300\n",
            "10/10 [==============================] - 0s 26ms/step - loss: 0.1298 - mean_absolute_error: 0.1298 - val_loss: 0.1402 - val_mean_absolute_error: 0.1402\n",
            "Epoch 20/300\n",
            "10/10 [==============================] - 0s 25ms/step - loss: 0.1155 - mean_absolute_error: 0.1155 - val_loss: 0.1545 - val_mean_absolute_error: 0.1545\n",
            "Epoch 21/300\n",
            "10/10 [==============================] - 0s 34ms/step - loss: 0.1392 - mean_absolute_error: 0.1392 - val_loss: 0.1360 - val_mean_absolute_error: 0.1360\n",
            "Epoch 22/300\n",
            "10/10 [==============================] - 0s 25ms/step - loss: 0.1331 - mean_absolute_error: 0.1331 - val_loss: 0.1412 - val_mean_absolute_error: 0.1412\n",
            "Epoch 23/300\n",
            "10/10 [==============================] - 0s 25ms/step - loss: 0.1101 - mean_absolute_error: 0.1101 - val_loss: 0.1415 - val_mean_absolute_error: 0.1415\n",
            "Epoch 24/300\n",
            "10/10 [==============================] - 0s 25ms/step - loss: 0.1524 - mean_absolute_error: 0.1524 - val_loss: 0.1634 - val_mean_absolute_error: 0.1634\n",
            "Epoch 25/300\n",
            "10/10 [==============================] - 0s 26ms/step - loss: 0.1409 - mean_absolute_error: 0.1409 - val_loss: 0.1398 - val_mean_absolute_error: 0.1398\n",
            "Epoch 26/300\n",
            "10/10 [==============================] - 0s 26ms/step - loss: 0.1454 - mean_absolute_error: 0.1454 - val_loss: 0.1352 - val_mean_absolute_error: 0.1352\n",
            "Epoch 27/300\n",
            "10/10 [==============================] - 0s 32ms/step - loss: 0.1415 - mean_absolute_error: 0.1415 - val_loss: 0.1411 - val_mean_absolute_error: 0.1411\n",
            "Epoch 28/300\n",
            "10/10 [==============================] - 0s 32ms/step - loss: 0.1176 - mean_absolute_error: 0.1176 - val_loss: 0.1410 - val_mean_absolute_error: 0.1410\n",
            "Epoch 29/300\n",
            "10/10 [==============================] - 0s 24ms/step - loss: 0.1192 - mean_absolute_error: 0.1192 - val_loss: 0.1457 - val_mean_absolute_error: 0.1457\n",
            "Epoch 30/300\n",
            "10/10 [==============================] - 0s 30ms/step - loss: 0.1052 - mean_absolute_error: 0.1052 - val_loss: 0.1417 - val_mean_absolute_error: 0.1417\n",
            "Epoch 31/300\n",
            "10/10 [==============================] - 0s 41ms/step - loss: 0.1312 - mean_absolute_error: 0.1312 - val_loss: 0.1328 - val_mean_absolute_error: 0.1328\n",
            "Epoch 32/300\n",
            "10/10 [==============================] - 0s 43ms/step - loss: 0.1307 - mean_absolute_error: 0.1307 - val_loss: 0.1401 - val_mean_absolute_error: 0.1401\n",
            "Epoch 33/300\n",
            "10/10 [==============================] - 0s 42ms/step - loss: 0.0977 - mean_absolute_error: 0.0977 - val_loss: 0.1402 - val_mean_absolute_error: 0.1402\n",
            "Epoch 34/300\n",
            "10/10 [==============================] - 0s 43ms/step - loss: 0.1339 - mean_absolute_error: 0.1339 - val_loss: 0.1384 - val_mean_absolute_error: 0.1384\n",
            "Epoch 35/300\n",
            "10/10 [==============================] - 0s 41ms/step - loss: 0.1348 - mean_absolute_error: 0.1348 - val_loss: 0.1309 - val_mean_absolute_error: 0.1309\n",
            "Epoch 36/300\n",
            "10/10 [==============================] - 0s 42ms/step - loss: 0.1368 - mean_absolute_error: 0.1368 - val_loss: 0.1286 - val_mean_absolute_error: 0.1286\n",
            "Epoch 37/300\n",
            "10/10 [==============================] - 0s 41ms/step - loss: 0.1384 - mean_absolute_error: 0.1384 - val_loss: 0.1398 - val_mean_absolute_error: 0.1398\n",
            "Epoch 38/300\n",
            "10/10 [==============================] - 0s 44ms/step - loss: 0.1148 - mean_absolute_error: 0.1148 - val_loss: 0.1293 - val_mean_absolute_error: 0.1293\n",
            "Epoch 39/300\n",
            "10/10 [==============================] - 0s 42ms/step - loss: 0.1071 - mean_absolute_error: 0.1071 - val_loss: 0.1366 - val_mean_absolute_error: 0.1366\n",
            "Epoch 40/300\n",
            "10/10 [==============================] - 0s 47ms/step - loss: 0.0987 - mean_absolute_error: 0.0987 - val_loss: 0.1317 - val_mean_absolute_error: 0.1317\n",
            "Epoch 41/300\n",
            "10/10 [==============================] - 0s 46ms/step - loss: 0.1129 - mean_absolute_error: 0.1129 - val_loss: 0.1267 - val_mean_absolute_error: 0.1267\n",
            "Epoch 42/300\n",
            "10/10 [==============================] - 0s 43ms/step - loss: 0.1281 - mean_absolute_error: 0.1281 - val_loss: 0.1300 - val_mean_absolute_error: 0.1300\n",
            "Epoch 43/300\n",
            "10/10 [==============================] - 0s 42ms/step - loss: 0.0934 - mean_absolute_error: 0.0934 - val_loss: 0.1329 - val_mean_absolute_error: 0.1329\n",
            "Epoch 44/300\n",
            "10/10 [==============================] - 0s 41ms/step - loss: 0.1354 - mean_absolute_error: 0.1354 - val_loss: 0.1444 - val_mean_absolute_error: 0.1444\n",
            "Epoch 45/300\n",
            "10/10 [==============================] - 0s 37ms/step - loss: 0.1262 - mean_absolute_error: 0.1262 - val_loss: 0.1372 - val_mean_absolute_error: 0.1372\n",
            "Epoch 46/300\n",
            "10/10 [==============================] - 0s 32ms/step - loss: 0.1471 - mean_absolute_error: 0.1471 - val_loss: 0.1266 - val_mean_absolute_error: 0.1266\n",
            "Epoch 47/300\n",
            "10/10 [==============================] - 0s 26ms/step - loss: 0.1442 - mean_absolute_error: 0.1442 - val_loss: 0.1422 - val_mean_absolute_error: 0.1422\n",
            "Epoch 48/300\n",
            "10/10 [==============================] - 0s 25ms/step - loss: 0.1160 - mean_absolute_error: 0.1160 - val_loss: 0.1274 - val_mean_absolute_error: 0.1274\n",
            "Epoch 49/300\n",
            "10/10 [==============================] - 0s 26ms/step - loss: 0.1058 - mean_absolute_error: 0.1058 - val_loss: 0.1332 - val_mean_absolute_error: 0.1332\n",
            "Epoch 50/300\n",
            "10/10 [==============================] - 0s 26ms/step - loss: 0.0953 - mean_absolute_error: 0.0953 - val_loss: 0.1238 - val_mean_absolute_error: 0.1238\n",
            "Epoch 51/300\n",
            "10/10 [==============================] - 0s 33ms/step - loss: 0.1070 - mean_absolute_error: 0.1070 - val_loss: 0.1340 - val_mean_absolute_error: 0.1340\n",
            "Epoch 52/300\n",
            "10/10 [==============================] - 0s 34ms/step - loss: 0.1433 - mean_absolute_error: 0.1433 - val_loss: 0.1314 - val_mean_absolute_error: 0.1314\n",
            "Epoch 53/300\n",
            "10/10 [==============================] - 0s 25ms/step - loss: 0.1201 - mean_absolute_error: 0.1201 - val_loss: 0.1233 - val_mean_absolute_error: 0.1233\n",
            "Epoch 54/300\n",
            "10/10 [==============================] - 0s 27ms/step - loss: 0.1468 - mean_absolute_error: 0.1468 - val_loss: 0.1593 - val_mean_absolute_error: 0.1593\n",
            "Epoch 55/300\n",
            "10/10 [==============================] - 0s 25ms/step - loss: 0.1251 - mean_absolute_error: 0.1251 - val_loss: 0.1237 - val_mean_absolute_error: 0.1237\n",
            "Epoch 56/300\n",
            "10/10 [==============================] - 0s 27ms/step - loss: 0.1414 - mean_absolute_error: 0.1414 - val_loss: 0.1223 - val_mean_absolute_error: 0.1223\n",
            "Epoch 57/300\n",
            "10/10 [==============================] - 0s 25ms/step - loss: 0.1305 - mean_absolute_error: 0.1305 - val_loss: 0.1335 - val_mean_absolute_error: 0.1335\n",
            "Epoch 58/300\n",
            "10/10 [==============================] - 0s 27ms/step - loss: 0.1139 - mean_absolute_error: 0.1139 - val_loss: 0.1249 - val_mean_absolute_error: 0.1249\n",
            "Epoch 59/300\n",
            "10/10 [==============================] - 0s 25ms/step - loss: 0.1023 - mean_absolute_error: 0.1023 - val_loss: 0.1319 - val_mean_absolute_error: 0.1319\n",
            "Epoch 60/300\n",
            "10/10 [==============================] - 0s 27ms/step - loss: 0.0910 - mean_absolute_error: 0.0910 - val_loss: 0.1217 - val_mean_absolute_error: 0.1217\n",
            "Epoch 61/300\n",
            "10/10 [==============================] - 0s 25ms/step - loss: 0.1033 - mean_absolute_error: 0.1033 - val_loss: 0.1332 - val_mean_absolute_error: 0.1332\n",
            "Epoch 62/300\n",
            "10/10 [==============================] - 0s 26ms/step - loss: 0.1368 - mean_absolute_error: 0.1368 - val_loss: 0.1230 - val_mean_absolute_error: 0.1230\n",
            "Epoch 63/300\n",
            "10/10 [==============================] - 0s 33ms/step - loss: 0.0925 - mean_absolute_error: 0.0925 - val_loss: 0.1346 - val_mean_absolute_error: 0.1346\n",
            "Epoch 64/300\n",
            "10/10 [==============================] - 0s 33ms/step - loss: 0.1467 - mean_absolute_error: 0.1467 - val_loss: 0.1420 - val_mean_absolute_error: 0.1420\n",
            "Epoch 65/300\n",
            "10/10 [==============================] - 0s 33ms/step - loss: 0.1157 - mean_absolute_error: 0.1157 - val_loss: 0.1314 - val_mean_absolute_error: 0.1314\n",
            "Epoch 66/300\n",
            "10/10 [==============================] - 0s 25ms/step - loss: 0.1296 - mean_absolute_error: 0.1296 - val_loss: 0.1229 - val_mean_absolute_error: 0.1229\n",
            "Epoch 67/300\n",
            "10/10 [==============================] - 0s 24ms/step - loss: 0.1151 - mean_absolute_error: 0.1151 - val_loss: 0.1197 - val_mean_absolute_error: 0.1197\n",
            "Epoch 68/300\n",
            "10/10 [==============================] - 0s 27ms/step - loss: 0.1126 - mean_absolute_error: 0.1126 - val_loss: 0.1235 - val_mean_absolute_error: 0.1235\n",
            "Epoch 69/300\n",
            "10/10 [==============================] - 0s 25ms/step - loss: 0.1013 - mean_absolute_error: 0.1013 - val_loss: 0.1394 - val_mean_absolute_error: 0.1394\n",
            "Epoch 70/300\n",
            "10/10 [==============================] - 0s 33ms/step - loss: 0.0924 - mean_absolute_error: 0.0924 - val_loss: 0.1226 - val_mean_absolute_error: 0.1226\n",
            "Epoch 71/300\n",
            "10/10 [==============================] - 0s 25ms/step - loss: 0.1185 - mean_absolute_error: 0.1185 - val_loss: 0.1179 - val_mean_absolute_error: 0.1179\n",
            "Epoch 72/300\n",
            "10/10 [==============================] - 0s 27ms/step - loss: 0.1305 - mean_absolute_error: 0.1305 - val_loss: 0.1182 - val_mean_absolute_error: 0.1182\n",
            "Epoch 73/300\n",
            "10/10 [==============================] - 0s 26ms/step - loss: 0.1051 - mean_absolute_error: 0.1051 - val_loss: 0.1194 - val_mean_absolute_error: 0.1194\n",
            "Epoch 74/300\n",
            "10/10 [==============================] - 0s 25ms/step - loss: 0.1386 - mean_absolute_error: 0.1386 - val_loss: 0.1511 - val_mean_absolute_error: 0.1511\n",
            "Epoch 75/300\n",
            "10/10 [==============================] - 0s 33ms/step - loss: 0.1153 - mean_absolute_error: 0.1153 - val_loss: 0.1185 - val_mean_absolute_error: 0.1185\n",
            "Epoch 76/300\n",
            "10/10 [==============================] - 0s 33ms/step - loss: 0.1327 - mean_absolute_error: 0.1327 - val_loss: 0.1172 - val_mean_absolute_error: 0.1172\n",
            "Epoch 77/300\n",
            "10/10 [==============================] - 0s 26ms/step - loss: 0.1104 - mean_absolute_error: 0.1104 - val_loss: 0.1195 - val_mean_absolute_error: 0.1195\n",
            "Epoch 78/300\n",
            "10/10 [==============================] - 0s 25ms/step - loss: 0.1123 - mean_absolute_error: 0.1123 - val_loss: 0.1219 - val_mean_absolute_error: 0.1219\n",
            "Epoch 79/300\n",
            "10/10 [==============================] - 0s 27ms/step - loss: 0.0997 - mean_absolute_error: 0.0997 - val_loss: 0.1352 - val_mean_absolute_error: 0.1352\n",
            "Epoch 80/300\n",
            "10/10 [==============================] - 0s 29ms/step - loss: 0.0878 - mean_absolute_error: 0.0878 - val_loss: 0.1185 - val_mean_absolute_error: 0.1185\n",
            "Epoch 81/300\n",
            "10/10 [==============================] - 0s 26ms/step - loss: 0.1108 - mean_absolute_error: 0.1108 - val_loss: 0.1183 - val_mean_absolute_error: 0.1183\n",
            "Epoch 82/300\n",
            "10/10 [==============================] - 0s 32ms/step - loss: 0.1282 - mean_absolute_error: 0.1282 - val_loss: 0.1167 - val_mean_absolute_error: 0.1167\n",
            "Epoch 83/300\n",
            "10/10 [==============================] - 0s 44ms/step - loss: 0.1033 - mean_absolute_error: 0.1033 - val_loss: 0.1181 - val_mean_absolute_error: 0.1181\n",
            "Epoch 84/300\n",
            "10/10 [==============================] - 0s 38ms/step - loss: 0.1426 - mean_absolute_error: 0.1426 - val_loss: 0.1662 - val_mean_absolute_error: 0.1662\n",
            "Epoch 85/300\n",
            "10/10 [==============================] - 0s 43ms/step - loss: 0.1148 - mean_absolute_error: 0.1148 - val_loss: 0.1173 - val_mean_absolute_error: 0.1173\n",
            "Epoch 86/300\n",
            "10/10 [==============================] - 0s 44ms/step - loss: 0.1321 - mean_absolute_error: 0.1321 - val_loss: 0.1162 - val_mean_absolute_error: 0.1162\n",
            "Epoch 87/300\n",
            "10/10 [==============================] - 0s 42ms/step - loss: 0.1075 - mean_absolute_error: 0.1075 - val_loss: 0.1211 - val_mean_absolute_error: 0.1211\n",
            "Epoch 88/300\n",
            "10/10 [==============================] - 0s 45ms/step - loss: 0.1087 - mean_absolute_error: 0.1087 - val_loss: 0.1186 - val_mean_absolute_error: 0.1186\n",
            "Epoch 89/300\n",
            "10/10 [==============================] - 0s 42ms/step - loss: 0.0923 - mean_absolute_error: 0.0923 - val_loss: 0.1242 - val_mean_absolute_error: 0.1242\n",
            "Epoch 90/300\n",
            "10/10 [==============================] - 0s 41ms/step - loss: 0.0820 - mean_absolute_error: 0.0820 - val_loss: 0.1166 - val_mean_absolute_error: 0.1166\n",
            "Epoch 91/300\n",
            "10/10 [==============================] - 0s 42ms/step - loss: 0.1050 - mean_absolute_error: 0.1050 - val_loss: 0.1189 - val_mean_absolute_error: 0.1189\n",
            "Epoch 92/300\n",
            "10/10 [==============================] - 0s 45ms/step - loss: 0.1275 - mean_absolute_error: 0.1275 - val_loss: 0.1166 - val_mean_absolute_error: 0.1166\n",
            "Epoch 93/300\n",
            "10/10 [==============================] - 0s 43ms/step - loss: 0.0927 - mean_absolute_error: 0.0927 - val_loss: 0.1223 - val_mean_absolute_error: 0.1223\n",
            "Epoch 94/300\n",
            "10/10 [==============================] - 0s 43ms/step - loss: 0.1335 - mean_absolute_error: 0.1335 - val_loss: 0.1422 - val_mean_absolute_error: 0.1422\n",
            "Epoch 95/300\n",
            "10/10 [==============================] - 0s 42ms/step - loss: 0.1077 - mean_absolute_error: 0.1077 - val_loss: 0.1169 - val_mean_absolute_error: 0.1169\n",
            "Epoch 96/300\n",
            "10/10 [==============================] - 0s 46ms/step - loss: 0.1291 - mean_absolute_error: 0.1291 - val_loss: 0.1169 - val_mean_absolute_error: 0.1169\n",
            "Epoch 97/300\n",
            "10/10 [==============================] - 0s 41ms/step - loss: 0.1067 - mean_absolute_error: 0.1067 - val_loss: 0.1199 - val_mean_absolute_error: 0.1199\n",
            "Epoch 98/300\n",
            "10/10 [==============================] - 0s 27ms/step - loss: 0.1068 - mean_absolute_error: 0.1068 - val_loss: 0.1186 - val_mean_absolute_error: 0.1186\n",
            "Epoch 99/300\n",
            "10/10 [==============================] - 0s 24ms/step - loss: 0.0928 - mean_absolute_error: 0.0928 - val_loss: 0.1251 - val_mean_absolute_error: 0.1251\n",
            "Epoch 100/300\n",
            "10/10 [==============================] - 0s 26ms/step - loss: 0.0797 - mean_absolute_error: 0.0797 - val_loss: 0.1160 - val_mean_absolute_error: 0.1160\n",
            "Epoch 101/300\n",
            "10/10 [==============================] - 0s 27ms/step - loss: 0.1013 - mean_absolute_error: 0.1013 - val_loss: 0.1202 - val_mean_absolute_error: 0.1202\n",
            "Epoch 102/300\n",
            "10/10 [==============================] - 0s 34ms/step - loss: 0.1201 - mean_absolute_error: 0.1201 - val_loss: 0.1168 - val_mean_absolute_error: 0.1168\n",
            "Epoch 103/300\n",
            "10/10 [==============================] - 0s 32ms/step - loss: 0.0868 - mean_absolute_error: 0.0868 - val_loss: 0.1256 - val_mean_absolute_error: 0.1256\n",
            "Epoch 104/300\n",
            "10/10 [==============================] - 0s 26ms/step - loss: 0.1319 - mean_absolute_error: 0.1319 - val_loss: 0.1352 - val_mean_absolute_error: 0.1352\n",
            "Epoch 105/300\n",
            "10/10 [==============================] - 0s 32ms/step - loss: 0.1047 - mean_absolute_error: 0.1047 - val_loss: 0.1169 - val_mean_absolute_error: 0.1169\n",
            "Epoch 106/300\n",
            "10/10 [==============================] - 0s 35ms/step - loss: 0.1286 - mean_absolute_error: 0.1286 - val_loss: 0.1164 - val_mean_absolute_error: 0.1164\n",
            "Epoch 107/300\n",
            "10/10 [==============================] - 0s 43ms/step - loss: 0.1050 - mean_absolute_error: 0.1050 - val_loss: 0.1210 - val_mean_absolute_error: 0.1210\n",
            "Epoch 108/300\n",
            "10/10 [==============================] - 0s 36ms/step - loss: 0.1027 - mean_absolute_error: 0.1027 - val_loss: 0.1175 - val_mean_absolute_error: 0.1175\n",
            "Epoch 109/300\n",
            "10/10 [==============================] - 0s 25ms/step - loss: 0.0861 - mean_absolute_error: 0.0861 - val_loss: 0.1181 - val_mean_absolute_error: 0.1181\n",
            "Epoch 110/300\n",
            "10/10 [==============================] - 0s 32ms/step - loss: 0.0718 - mean_absolute_error: 0.0718 - val_loss: 0.1162 - val_mean_absolute_error: 0.1162\n",
            "Epoch 111/300\n",
            "10/10 [==============================] - 0s 32ms/step - loss: 0.0920 - mean_absolute_error: 0.0920 - val_loss: 0.1227 - val_mean_absolute_error: 0.1227\n",
            "Epoch 112/300\n",
            "10/10 [==============================] - 0s 34ms/step - loss: 0.1195 - mean_absolute_error: 0.1195 - val_loss: 0.1162 - val_mean_absolute_error: 0.1162\n",
            "Epoch 113/300\n",
            "10/10 [==============================] - 0s 26ms/step - loss: 0.0945 - mean_absolute_error: 0.0945 - val_loss: 0.1182 - val_mean_absolute_error: 0.1182\n",
            "Epoch 114/300\n",
            "10/10 [==============================] - 0s 26ms/step - loss: 0.1314 - mean_absolute_error: 0.1314 - val_loss: 0.1547 - val_mean_absolute_error: 0.1547\n",
            "Epoch 115/300\n",
            "10/10 [==============================] - 0s 26ms/step - loss: 0.0989 - mean_absolute_error: 0.0989 - val_loss: 0.1156 - val_mean_absolute_error: 0.1156\n",
            "Epoch 116/300\n",
            "10/10 [==============================] - 0s 34ms/step - loss: 0.1275 - mean_absolute_error: 0.1275 - val_loss: 0.1155 - val_mean_absolute_error: 0.1155\n",
            "Epoch 117/300\n",
            "10/10 [==============================] - 0s 34ms/step - loss: 0.0995 - mean_absolute_error: 0.0995 - val_loss: 0.1233 - val_mean_absolute_error: 0.1233\n",
            "Epoch 118/300\n",
            "10/10 [==============================] - 0s 33ms/step - loss: 0.1016 - mean_absolute_error: 0.1016 - val_loss: 0.1236 - val_mean_absolute_error: 0.1236\n",
            "Epoch 119/300\n",
            "10/10 [==============================] - 0s 28ms/step - loss: 0.0923 - mean_absolute_error: 0.0923 - val_loss: 0.1172 - val_mean_absolute_error: 0.1172\n",
            "Epoch 120/300\n",
            "10/10 [==============================] - 0s 32ms/step - loss: 0.0745 - mean_absolute_error: 0.0745 - val_loss: 0.1150 - val_mean_absolute_error: 0.1150\n",
            "Epoch 121/300\n",
            "10/10 [==============================] - 0s 25ms/step - loss: 0.0861 - mean_absolute_error: 0.0861 - val_loss: 0.1296 - val_mean_absolute_error: 0.1296\n",
            "Epoch 122/300\n",
            "10/10 [==============================] - 0s 26ms/step - loss: 0.1251 - mean_absolute_error: 0.1251 - val_loss: 0.1145 - val_mean_absolute_error: 0.1145\n",
            "Epoch 123/300\n",
            "10/10 [==============================] - 0s 26ms/step - loss: 0.0995 - mean_absolute_error: 0.0995 - val_loss: 0.1136 - val_mean_absolute_error: 0.1136\n",
            "Epoch 124/300\n",
            "10/10 [==============================] - 0s 25ms/step - loss: 0.1271 - mean_absolute_error: 0.1271 - val_loss: 0.1523 - val_mean_absolute_error: 0.1523\n",
            "Epoch 125/300\n",
            "10/10 [==============================] - 0s 26ms/step - loss: 0.0986 - mean_absolute_error: 0.0986 - val_loss: 0.1139 - val_mean_absolute_error: 0.1139\n",
            "Epoch 126/300\n",
            "10/10 [==============================] - 0s 33ms/step - loss: 0.1300 - mean_absolute_error: 0.1300 - val_loss: 0.1143 - val_mean_absolute_error: 0.1143\n",
            "Epoch 127/300\n",
            "10/10 [==============================] - 0s 33ms/step - loss: 0.0991 - mean_absolute_error: 0.0991 - val_loss: 0.1228 - val_mean_absolute_error: 0.1228\n",
            "Epoch 128/300\n",
            "10/10 [==============================] - 0s 25ms/step - loss: 0.0990 - mean_absolute_error: 0.0990 - val_loss: 0.1195 - val_mean_absolute_error: 0.1195\n",
            "Epoch 129/300\n",
            "10/10 [==============================] - 0s 26ms/step - loss: 0.0899 - mean_absolute_error: 0.0899 - val_loss: 0.1151 - val_mean_absolute_error: 0.1151\n",
            "Epoch 130/300\n",
            "10/10 [==============================] - 0s 27ms/step - loss: 0.0672 - mean_absolute_error: 0.0672 - val_loss: 0.1126 - val_mean_absolute_error: 0.1126\n",
            "Epoch 131/300\n",
            "10/10 [==============================] - 0s 32ms/step - loss: 0.0872 - mean_absolute_error: 0.0872 - val_loss: 0.1176 - val_mean_absolute_error: 0.1176\n",
            "Epoch 132/300\n",
            "10/10 [==============================] - 0s 32ms/step - loss: 0.1138 - mean_absolute_error: 0.1138 - val_loss: 0.1119 - val_mean_absolute_error: 0.1119\n",
            "Epoch 133/300\n",
            "10/10 [==============================] - 0s 43ms/step - loss: 0.0890 - mean_absolute_error: 0.0890 - val_loss: 0.1138 - val_mean_absolute_error: 0.1138\n",
            "Epoch 134/300\n",
            "10/10 [==============================] - 0s 42ms/step - loss: 0.1231 - mean_absolute_error: 0.1231 - val_loss: 0.1418 - val_mean_absolute_error: 0.1418\n",
            "Epoch 135/300\n",
            "10/10 [==============================] - 0s 43ms/step - loss: 0.0966 - mean_absolute_error: 0.0966 - val_loss: 0.1128 - val_mean_absolute_error: 0.1128\n",
            "Epoch 136/300\n",
            "10/10 [==============================] - 0s 45ms/step - loss: 0.1217 - mean_absolute_error: 0.1217 - val_loss: 0.1115 - val_mean_absolute_error: 0.1115\n",
            "Epoch 137/300\n",
            "10/10 [==============================] - 0s 43ms/step - loss: 0.0951 - mean_absolute_error: 0.0951 - val_loss: 0.1167 - val_mean_absolute_error: 0.1167\n",
            "Epoch 138/300\n",
            "10/10 [==============================] - 0s 42ms/step - loss: 0.0955 - mean_absolute_error: 0.0955 - val_loss: 0.1161 - val_mean_absolute_error: 0.1161\n",
            "Epoch 139/300\n",
            "10/10 [==============================] - 0s 45ms/step - loss: 0.0849 - mean_absolute_error: 0.0849 - val_loss: 0.1122 - val_mean_absolute_error: 0.1122\n",
            "Epoch 140/300\n",
            "10/10 [==============================] - 0s 41ms/step - loss: 0.0635 - mean_absolute_error: 0.0635 - val_loss: 0.1103 - val_mean_absolute_error: 0.1103\n",
            "Epoch 141/300\n",
            "10/10 [==============================] - 1s 60ms/step - loss: 0.0870 - mean_absolute_error: 0.0870 - val_loss: 0.1108 - val_mean_absolute_error: 0.1108\n",
            "Epoch 142/300\n",
            "10/10 [==============================] - 0s 44ms/step - loss: 0.1056 - mean_absolute_error: 0.1056 - val_loss: 0.1094 - val_mean_absolute_error: 0.1094\n",
            "Epoch 143/300\n",
            "10/10 [==============================] - 0s 44ms/step - loss: 0.0732 - mean_absolute_error: 0.0732 - val_loss: 0.1172 - val_mean_absolute_error: 0.1172\n",
            "Epoch 144/300\n",
            "10/10 [==============================] - 0s 45ms/step - loss: 0.1182 - mean_absolute_error: 0.1182 - val_loss: 0.1250 - val_mean_absolute_error: 0.1250\n",
            "Epoch 145/300\n",
            "10/10 [==============================] - 0s 43ms/step - loss: 0.0884 - mean_absolute_error: 0.0884 - val_loss: 0.1080 - val_mean_absolute_error: 0.1080\n",
            "Epoch 146/300\n",
            "10/10 [==============================] - 0s 40ms/step - loss: 0.1159 - mean_absolute_error: 0.1159 - val_loss: 0.1083 - val_mean_absolute_error: 0.1083\n",
            "Epoch 147/300\n",
            "10/10 [==============================] - 0s 30ms/step - loss: 0.0938 - mean_absolute_error: 0.0938 - val_loss: 0.1186 - val_mean_absolute_error: 0.1186\n",
            "Epoch 148/300\n",
            "10/10 [==============================] - 0s 32ms/step - loss: 0.0968 - mean_absolute_error: 0.0968 - val_loss: 0.1122 - val_mean_absolute_error: 0.1122\n",
            "Epoch 149/300\n",
            "10/10 [==============================] - 0s 25ms/step - loss: 0.0819 - mean_absolute_error: 0.0819 - val_loss: 0.1098 - val_mean_absolute_error: 0.1098\n",
            "Epoch 150/300\n",
            "10/10 [==============================] - 0s 26ms/step - loss: 0.0618 - mean_absolute_error: 0.0618 - val_loss: 0.1098 - val_mean_absolute_error: 0.1098\n",
            "Epoch 151/300\n",
            "10/10 [==============================] - 0s 26ms/step - loss: 0.0880 - mean_absolute_error: 0.0880 - val_loss: 0.1064 - val_mean_absolute_error: 0.1064\n",
            "Epoch 152/300\n",
            "10/10 [==============================] - 0s 24ms/step - loss: 0.0967 - mean_absolute_error: 0.0967 - val_loss: 0.1080 - val_mean_absolute_error: 0.1080\n",
            "Epoch 153/300\n",
            "10/10 [==============================] - 0s 26ms/step - loss: 0.0707 - mean_absolute_error: 0.0707 - val_loss: 0.1117 - val_mean_absolute_error: 0.1117\n",
            "Epoch 154/300\n",
            "10/10 [==============================] - 0s 32ms/step - loss: 0.1041 - mean_absolute_error: 0.1041 - val_loss: 0.1130 - val_mean_absolute_error: 0.1130\n",
            "Epoch 155/300\n",
            "10/10 [==============================] - 0s 25ms/step - loss: 0.0915 - mean_absolute_error: 0.0915 - val_loss: 0.1082 - val_mean_absolute_error: 0.1082\n",
            "Epoch 156/300\n",
            "10/10 [==============================] - 0s 27ms/step - loss: 0.1120 - mean_absolute_error: 0.1120 - val_loss: 0.1063 - val_mean_absolute_error: 0.1063\n",
            "Epoch 157/300\n",
            "10/10 [==============================] - 0s 25ms/step - loss: 0.0900 - mean_absolute_error: 0.0900 - val_loss: 0.1103 - val_mean_absolute_error: 0.1103\n",
            "Epoch 158/300\n",
            "10/10 [==============================] - 0s 25ms/step - loss: 0.0905 - mean_absolute_error: 0.0905 - val_loss: 0.1113 - val_mean_absolute_error: 0.1113\n",
            "Epoch 159/300\n",
            "10/10 [==============================] - 0s 24ms/step - loss: 0.0814 - mean_absolute_error: 0.0814 - val_loss: 0.1075 - val_mean_absolute_error: 0.1075\n",
            "Epoch 160/300\n",
            "10/10 [==============================] - 0s 33ms/step - loss: 0.0581 - mean_absolute_error: 0.0581 - val_loss: 0.1062 - val_mean_absolute_error: 0.1062\n",
            "Epoch 161/300\n",
            "10/10 [==============================] - 0s 33ms/step - loss: 0.0852 - mean_absolute_error: 0.0852 - val_loss: 0.1060 - val_mean_absolute_error: 0.1060\n",
            "Epoch 162/300\n",
            "10/10 [==============================] - 0s 27ms/step - loss: 0.0966 - mean_absolute_error: 0.0966 - val_loss: 0.1049 - val_mean_absolute_error: 0.1049\n",
            "Epoch 163/300\n",
            "10/10 [==============================] - 0s 32ms/step - loss: 0.0683 - mean_absolute_error: 0.0683 - val_loss: 0.1085 - val_mean_absolute_error: 0.1085\n",
            "Epoch 164/300\n",
            "10/10 [==============================] - 0s 34ms/step - loss: 0.1054 - mean_absolute_error: 0.1054 - val_loss: 0.1166 - val_mean_absolute_error: 0.1166\n",
            "Epoch 165/300\n",
            "10/10 [==============================] - 0s 33ms/step - loss: 0.0929 - mean_absolute_error: 0.0929 - val_loss: 0.1135 - val_mean_absolute_error: 0.1135\n",
            "Epoch 166/300\n",
            "10/10 [==============================] - 0s 33ms/step - loss: 0.1087 - mean_absolute_error: 0.1087 - val_loss: 0.1061 - val_mean_absolute_error: 0.1061\n",
            "Epoch 167/300\n",
            "10/10 [==============================] - 0s 27ms/step - loss: 0.0927 - mean_absolute_error: 0.0927 - val_loss: 0.1090 - val_mean_absolute_error: 0.1090\n",
            "Epoch 168/300\n",
            "10/10 [==============================] - 0s 27ms/step - loss: 0.0899 - mean_absolute_error: 0.0899 - val_loss: 0.1075 - val_mean_absolute_error: 0.1075\n",
            "Epoch 169/300\n",
            "10/10 [==============================] - 0s 33ms/step - loss: 0.0789 - mean_absolute_error: 0.0789 - val_loss: 0.1065 - val_mean_absolute_error: 0.1065\n",
            "Epoch 170/300\n",
            "10/10 [==============================] - 0s 26ms/step - loss: 0.0580 - mean_absolute_error: 0.0580 - val_loss: 0.1067 - val_mean_absolute_error: 0.1067\n",
            "Epoch 171/300\n",
            "10/10 [==============================] - 0s 35ms/step - loss: 0.0876 - mean_absolute_error: 0.0876 - val_loss: 0.1064 - val_mean_absolute_error: 0.1064\n",
            "Epoch 172/300\n",
            "10/10 [==============================] - 0s 35ms/step - loss: 0.0939 - mean_absolute_error: 0.0939 - val_loss: 0.1080 - val_mean_absolute_error: 0.1080\n",
            "Epoch 173/300\n",
            "10/10 [==============================] - 0s 32ms/step - loss: 0.0683 - mean_absolute_error: 0.0683 - val_loss: 0.1088 - val_mean_absolute_error: 0.1088\n",
            "Epoch 174/300\n",
            "10/10 [==============================] - 0s 27ms/step - loss: 0.1004 - mean_absolute_error: 0.1004 - val_loss: 0.1114 - val_mean_absolute_error: 0.1114\n",
            "Epoch 175/300\n",
            "10/10 [==============================] - 0s 26ms/step - loss: 0.0880 - mean_absolute_error: 0.0880 - val_loss: 0.1063 - val_mean_absolute_error: 0.1063\n",
            "Epoch 176/300\n",
            "10/10 [==============================] - 0s 25ms/step - loss: 0.1117 - mean_absolute_error: 0.1117 - val_loss: 0.1054 - val_mean_absolute_error: 0.1054\n",
            "Epoch 177/300\n",
            "10/10 [==============================] - 0s 26ms/step - loss: 0.0888 - mean_absolute_error: 0.0888 - val_loss: 0.1109 - val_mean_absolute_error: 0.1109\n",
            "Epoch 178/300\n",
            "10/10 [==============================] - 0s 36ms/step - loss: 0.0900 - mean_absolute_error: 0.0900 - val_loss: 0.1074 - val_mean_absolute_error: 0.1074\n",
            "Epoch 179/300\n",
            "10/10 [==============================] - 0s 26ms/step - loss: 0.0780 - mean_absolute_error: 0.0780 - val_loss: 0.1054 - val_mean_absolute_error: 0.1054\n",
            "Epoch 180/300\n",
            "10/10 [==============================] - 0s 24ms/step - loss: 0.0553 - mean_absolute_error: 0.0553 - val_loss: 0.1050 - val_mean_absolute_error: 0.1050\n",
            "Epoch 181/300\n",
            "10/10 [==============================] - 0s 26ms/step - loss: 0.0870 - mean_absolute_error: 0.0870 - val_loss: 0.1056 - val_mean_absolute_error: 0.1056\n",
            "Epoch 182/300\n",
            "10/10 [==============================] - 0s 27ms/step - loss: 0.0934 - mean_absolute_error: 0.0934 - val_loss: 0.1051 - val_mean_absolute_error: 0.1051\n",
            "Epoch 183/300\n",
            "10/10 [==============================] - 0s 40ms/step - loss: 0.0656 - mean_absolute_error: 0.0656 - val_loss: 0.1104 - val_mean_absolute_error: 0.1104\n",
            "Epoch 184/300\n",
            "10/10 [==============================] - 0s 42ms/step - loss: 0.1057 - mean_absolute_error: 0.1057 - val_loss: 0.1185 - val_mean_absolute_error: 0.1185\n",
            "Epoch 185/300\n",
            "10/10 [==============================] - 0s 41ms/step - loss: 0.0909 - mean_absolute_error: 0.0909 - val_loss: 0.1155 - val_mean_absolute_error: 0.1155\n",
            "Epoch 186/300\n",
            "10/10 [==============================] - 0s 38ms/step - loss: 0.1087 - mean_absolute_error: 0.1087 - val_loss: 0.1049 - val_mean_absolute_error: 0.1049\n",
            "Epoch 187/300\n",
            "10/10 [==============================] - 0s 44ms/step - loss: 0.0887 - mean_absolute_error: 0.0887 - val_loss: 0.1051 - val_mean_absolute_error: 0.1051\n",
            "Epoch 188/300\n",
            "10/10 [==============================] - 0s 38ms/step - loss: 0.0850 - mean_absolute_error: 0.0850 - val_loss: 0.1050 - val_mean_absolute_error: 0.1050\n",
            "Epoch 189/300\n",
            "10/10 [==============================] - 0s 38ms/step - loss: 0.0789 - mean_absolute_error: 0.0789 - val_loss: 0.1054 - val_mean_absolute_error: 0.1054\n",
            "Epoch 190/300\n",
            "10/10 [==============================] - 0s 42ms/step - loss: 0.0542 - mean_absolute_error: 0.0542 - val_loss: 0.1050 - val_mean_absolute_error: 0.1050\n",
            "Epoch 191/300\n",
            "10/10 [==============================] - 0s 42ms/step - loss: 0.0839 - mean_absolute_error: 0.0839 - val_loss: 0.1046 - val_mean_absolute_error: 0.1046\n",
            "Epoch 192/300\n",
            "10/10 [==============================] - 0s 43ms/step - loss: 0.0931 - mean_absolute_error: 0.0931 - val_loss: 0.1045 - val_mean_absolute_error: 0.1045\n",
            "Epoch 193/300\n",
            "10/10 [==============================] - 0s 47ms/step - loss: 0.0679 - mean_absolute_error: 0.0679 - val_loss: 0.1106 - val_mean_absolute_error: 0.1106\n",
            "Epoch 194/300\n",
            "10/10 [==============================] - 0s 48ms/step - loss: 0.1081 - mean_absolute_error: 0.1081 - val_loss: 0.1222 - val_mean_absolute_error: 0.1222\n",
            "Epoch 195/300\n",
            "10/10 [==============================] - 0s 45ms/step - loss: 0.0889 - mean_absolute_error: 0.0889 - val_loss: 0.1145 - val_mean_absolute_error: 0.1145\n",
            "Epoch 196/300\n",
            "10/10 [==============================] - 0s 44ms/step - loss: 0.1077 - mean_absolute_error: 0.1077 - val_loss: 0.1047 - val_mean_absolute_error: 0.1047\n",
            "Epoch 197/300\n",
            "10/10 [==============================] - 0s 43ms/step - loss: 0.0883 - mean_absolute_error: 0.0883 - val_loss: 0.1047 - val_mean_absolute_error: 0.1047\n",
            "Epoch 198/300\n",
            "10/10 [==============================] - 0s 43ms/step - loss: 0.0836 - mean_absolute_error: 0.0836 - val_loss: 0.1052 - val_mean_absolute_error: 0.1052\n",
            "Epoch 199/300\n",
            "10/10 [==============================] - 0s 33ms/step - loss: 0.0772 - mean_absolute_error: 0.0772 - val_loss: 0.1046 - val_mean_absolute_error: 0.1046\n",
            "Epoch 200/300\n",
            "10/10 [==============================] - 0s 27ms/step - loss: 0.0539 - mean_absolute_error: 0.0539 - val_loss: 0.1048 - val_mean_absolute_error: 0.1048\n",
            "Epoch 201/300\n",
            "10/10 [==============================] - 0s 27ms/step - loss: 0.0852 - mean_absolute_error: 0.0852 - val_loss: 0.1052 - val_mean_absolute_error: 0.1052\n",
            "Epoch 202/300\n",
            "10/10 [==============================] - 0s 33ms/step - loss: 0.0920 - mean_absolute_error: 0.0920 - val_loss: 0.1071 - val_mean_absolute_error: 0.1071\n",
            "Epoch 203/300\n",
            "10/10 [==============================] - 0s 33ms/step - loss: 0.0654 - mean_absolute_error: 0.0654 - val_loss: 0.1072 - val_mean_absolute_error: 0.1072\n",
            "Epoch 204/300\n",
            "10/10 [==============================] - 0s 26ms/step - loss: 0.0977 - mean_absolute_error: 0.0977 - val_loss: 0.1125 - val_mean_absolute_error: 0.1125\n",
            "Epoch 205/300\n",
            "10/10 [==============================] - 0s 25ms/step - loss: 0.0891 - mean_absolute_error: 0.0891 - val_loss: 0.1113 - val_mean_absolute_error: 0.1113\n",
            "Epoch 206/300\n",
            "10/10 [==============================] - 0s 26ms/step - loss: 0.1067 - mean_absolute_error: 0.1067 - val_loss: 0.1046 - val_mean_absolute_error: 0.1046\n",
            "Epoch 207/300\n",
            "10/10 [==============================] - 0s 33ms/step - loss: 0.0875 - mean_absolute_error: 0.0875 - val_loss: 0.1049 - val_mean_absolute_error: 0.1049\n",
            "Epoch 208/300\n",
            "10/10 [==============================] - 0s 29ms/step - loss: 0.0834 - mean_absolute_error: 0.0834 - val_loss: 0.1063 - val_mean_absolute_error: 0.1063\n",
            "Epoch 209/300\n",
            "10/10 [==============================] - 0s 26ms/step - loss: 0.0777 - mean_absolute_error: 0.0777 - val_loss: 0.1048 - val_mean_absolute_error: 0.1048\n",
            "Epoch 210/300\n",
            "10/10 [==============================] - 0s 26ms/step - loss: 0.0550 - mean_absolute_error: 0.0550 - val_loss: 0.1044 - val_mean_absolute_error: 0.1044\n",
            "Epoch 211/300\n",
            "10/10 [==============================] - 0s 25ms/step - loss: 0.0845 - mean_absolute_error: 0.0845 - val_loss: 0.1053 - val_mean_absolute_error: 0.1053\n",
            "Epoch 212/300\n",
            "10/10 [==============================] - 0s 26ms/step - loss: 0.0922 - mean_absolute_error: 0.0922 - val_loss: 0.1061 - val_mean_absolute_error: 0.1061\n",
            "Epoch 213/300\n",
            "10/10 [==============================] - 0s 25ms/step - loss: 0.0641 - mean_absolute_error: 0.0641 - val_loss: 0.1066 - val_mean_absolute_error: 0.1066\n",
            "Epoch 214/300\n",
            "10/10 [==============================] - 0s 25ms/step - loss: 0.0945 - mean_absolute_error: 0.0945 - val_loss: 0.1092 - val_mean_absolute_error: 0.1092\n",
            "Epoch 215/300\n",
            "10/10 [==============================] - 0s 26ms/step - loss: 0.0875 - mean_absolute_error: 0.0875 - val_loss: 0.1075 - val_mean_absolute_error: 0.1075\n",
            "Epoch 216/300\n",
            "10/10 [==============================] - 0s 26ms/step - loss: 0.1049 - mean_absolute_error: 0.1049 - val_loss: 0.1051 - val_mean_absolute_error: 0.1051\n",
            "Epoch 217/300\n",
            "10/10 [==============================] - 0s 26ms/step - loss: 0.0883 - mean_absolute_error: 0.0883 - val_loss: 0.1049 - val_mean_absolute_error: 0.1049\n",
            "Epoch 218/300\n",
            "10/10 [==============================] - 0s 25ms/step - loss: 0.0822 - mean_absolute_error: 0.0822 - val_loss: 0.1053 - val_mean_absolute_error: 0.1053\n",
            "Epoch 219/300\n",
            "10/10 [==============================] - 0s 27ms/step - loss: 0.0768 - mean_absolute_error: 0.0768 - val_loss: 0.1053 - val_mean_absolute_error: 0.1053\n",
            "Epoch 220/300\n",
            "10/10 [==============================] - 0s 35ms/step - loss: 0.0532 - mean_absolute_error: 0.0532 - val_loss: 0.1046 - val_mean_absolute_error: 0.1046\n",
            "Epoch 221/300\n",
            "10/10 [==============================] - 0s 32ms/step - loss: 0.0826 - mean_absolute_error: 0.0826 - val_loss: 0.1045 - val_mean_absolute_error: 0.1045\n",
            "Epoch 222/300\n",
            "10/10 [==============================] - 0s 25ms/step - loss: 0.0905 - mean_absolute_error: 0.0905 - val_loss: 0.1046 - val_mean_absolute_error: 0.1046\n",
            "Epoch 223/300\n",
            "10/10 [==============================] - 0s 26ms/step - loss: 0.0662 - mean_absolute_error: 0.0662 - val_loss: 0.1069 - val_mean_absolute_error: 0.1069\n",
            "Epoch 224/300\n",
            "10/10 [==============================] - 0s 32ms/step - loss: 0.0980 - mean_absolute_error: 0.0980 - val_loss: 0.1155 - val_mean_absolute_error: 0.1155\n",
            "Epoch 225/300\n",
            "10/10 [==============================] - 0s 25ms/step - loss: 0.0901 - mean_absolute_error: 0.0901 - val_loss: 0.1170 - val_mean_absolute_error: 0.1170\n",
            "Epoch 226/300\n",
            "10/10 [==============================] - 0s 26ms/step - loss: 0.1101 - mean_absolute_error: 0.1101 - val_loss: 0.1095 - val_mean_absolute_error: 0.1095\n",
            "Epoch 227/300\n",
            "10/10 [==============================] - 0s 27ms/step - loss: 0.0838 - mean_absolute_error: 0.0838 - val_loss: 0.1060 - val_mean_absolute_error: 0.1060\n",
            "Epoch 228/300\n",
            "10/10 [==============================] - 0s 26ms/step - loss: 0.0841 - mean_absolute_error: 0.0841 - val_loss: 0.1052 - val_mean_absolute_error: 0.1052\n",
            "Epoch 229/300\n",
            "10/10 [==============================] - 0s 26ms/step - loss: 0.0770 - mean_absolute_error: 0.0770 - val_loss: 0.1051 - val_mean_absolute_error: 0.1051\n",
            "Epoch 230/300\n",
            "10/10 [==============================] - 0s 27ms/step - loss: 0.0535 - mean_absolute_error: 0.0535 - val_loss: 0.1049 - val_mean_absolute_error: 0.1049\n",
            "Epoch 231/300\n",
            "10/10 [==============================] - 0s 35ms/step - loss: 0.0817 - mean_absolute_error: 0.0817 - val_loss: 0.1045 - val_mean_absolute_error: 0.1045\n",
            "Epoch 232/300\n",
            "10/10 [==============================] - 0s 33ms/step - loss: 0.0901 - mean_absolute_error: 0.0901 - val_loss: 0.1056 - val_mean_absolute_error: 0.1056\n",
            "Epoch 233/300\n",
            "10/10 [==============================] - 0s 34ms/step - loss: 0.0638 - mean_absolute_error: 0.0638 - val_loss: 0.1057 - val_mean_absolute_error: 0.1057\n",
            "Epoch 234/300\n",
            "10/10 [==============================] - 0s 33ms/step - loss: 0.0933 - mean_absolute_error: 0.0933 - val_loss: 0.1098 - val_mean_absolute_error: 0.1098\n",
            "Epoch 235/300\n",
            "10/10 [==============================] - 0s 33ms/step - loss: 0.0883 - mean_absolute_error: 0.0883 - val_loss: 0.1106 - val_mean_absolute_error: 0.1106\n",
            "Epoch 236/300\n",
            "10/10 [==============================] - 0s 39ms/step - loss: 0.1063 - mean_absolute_error: 0.1063 - val_loss: 0.1073 - val_mean_absolute_error: 0.1073\n",
            "Epoch 237/300\n",
            "10/10 [==============================] - 0s 44ms/step - loss: 0.0841 - mean_absolute_error: 0.0841 - val_loss: 0.1064 - val_mean_absolute_error: 0.1064\n",
            "Epoch 238/300\n",
            "10/10 [==============================] - 0s 39ms/step - loss: 0.0831 - mean_absolute_error: 0.0831 - val_loss: 0.1045 - val_mean_absolute_error: 0.1045\n",
            "Epoch 239/300\n",
            "10/10 [==============================] - 0s 43ms/step - loss: 0.0776 - mean_absolute_error: 0.0776 - val_loss: 0.1049 - val_mean_absolute_error: 0.1049\n",
            "Epoch 240/300\n",
            "10/10 [==============================] - 0s 40ms/step - loss: 0.0534 - mean_absolute_error: 0.0534 - val_loss: 0.1048 - val_mean_absolute_error: 0.1048\n",
            "Epoch 241/300\n",
            "10/10 [==============================] - 0s 43ms/step - loss: 0.0816 - mean_absolute_error: 0.0816 - val_loss: 0.1044 - val_mean_absolute_error: 0.1044\n",
            "Epoch 242/300\n",
            "10/10 [==============================] - 0s 51ms/step - loss: 0.0903 - mean_absolute_error: 0.0903 - val_loss: 0.1046 - val_mean_absolute_error: 0.1046\n",
            "Epoch 243/300\n",
            "10/10 [==============================] - 0s 51ms/step - loss: 0.0635 - mean_absolute_error: 0.0635 - val_loss: 0.1060 - val_mean_absolute_error: 0.1060\n",
            "Epoch 244/300\n",
            "10/10 [==============================] - 0s 42ms/step - loss: 0.0935 - mean_absolute_error: 0.0935 - val_loss: 0.1100 - val_mean_absolute_error: 0.1100\n",
            "Epoch 245/300\n",
            "10/10 [==============================] - 0s 40ms/step - loss: 0.0876 - mean_absolute_error: 0.0876 - val_loss: 0.1102 - val_mean_absolute_error: 0.1102\n",
            "Epoch 246/300\n",
            "10/10 [==============================] - 0s 45ms/step - loss: 0.1060 - mean_absolute_error: 0.1060 - val_loss: 0.1077 - val_mean_absolute_error: 0.1077\n",
            "Epoch 247/300\n",
            "10/10 [==============================] - 0s 47ms/step - loss: 0.0838 - mean_absolute_error: 0.0838 - val_loss: 0.1070 - val_mean_absolute_error: 0.1070\n",
            "Epoch 248/300\n",
            "10/10 [==============================] - 0s 45ms/step - loss: 0.0829 - mean_absolute_error: 0.0829 - val_loss: 0.1046 - val_mean_absolute_error: 0.1046\n",
            "Epoch 249/300\n",
            "10/10 [==============================] - 0s 44ms/step - loss: 0.0785 - mean_absolute_error: 0.0785 - val_loss: 0.1045 - val_mean_absolute_error: 0.1045\n",
            "Epoch 250/300\n",
            "10/10 [==============================] - 0s 40ms/step - loss: 0.0532 - mean_absolute_error: 0.0532 - val_loss: 0.1048 - val_mean_absolute_error: 0.1048\n",
            "Epoch 251/300\n",
            "10/10 [==============================] - 0s 43ms/step - loss: 0.0815 - mean_absolute_error: 0.0815 - val_loss: 0.1045 - val_mean_absolute_error: 0.1045\n",
            "Epoch 252/300\n",
            "10/10 [==============================] - 0s 38ms/step - loss: 0.0904 - mean_absolute_error: 0.0904 - val_loss: 0.1043 - val_mean_absolute_error: 0.1043\n",
            "Epoch 253/300\n",
            "10/10 [==============================] - 0s 26ms/step - loss: 0.0638 - mean_absolute_error: 0.0638 - val_loss: 0.1054 - val_mean_absolute_error: 0.1054\n",
            "Epoch 254/300\n",
            "10/10 [==============================] - 0s 33ms/step - loss: 0.0929 - mean_absolute_error: 0.0929 - val_loss: 0.1095 - val_mean_absolute_error: 0.1095\n",
            "Epoch 255/300\n",
            "10/10 [==============================] - 0s 27ms/step - loss: 0.0877 - mean_absolute_error: 0.0877 - val_loss: 0.1107 - val_mean_absolute_error: 0.1107\n",
            "Epoch 256/300\n",
            "10/10 [==============================] - 0s 26ms/step - loss: 0.1063 - mean_absolute_error: 0.1063 - val_loss: 0.1083 - val_mean_absolute_error: 0.1083\n",
            "Epoch 257/300\n",
            "10/10 [==============================] - 0s 33ms/step - loss: 0.0835 - mean_absolute_error: 0.0835 - val_loss: 0.1071 - val_mean_absolute_error: 0.1071\n",
            "Epoch 258/300\n",
            "10/10 [==============================] - 0s 28ms/step - loss: 0.0825 - mean_absolute_error: 0.0825 - val_loss: 0.1050 - val_mean_absolute_error: 0.1050\n",
            "Epoch 259/300\n",
            "10/10 [==============================] - 0s 29ms/step - loss: 0.0792 - mean_absolute_error: 0.0792 - val_loss: 0.1043 - val_mean_absolute_error: 0.1043\n",
            "Epoch 260/300\n",
            "10/10 [==============================] - 0s 35ms/step - loss: 0.0531 - mean_absolute_error: 0.0531 - val_loss: 0.1044 - val_mean_absolute_error: 0.1044\n",
            "Epoch 261/300\n",
            "10/10 [==============================] - 0s 26ms/step - loss: 0.0821 - mean_absolute_error: 0.0821 - val_loss: 0.1049 - val_mean_absolute_error: 0.1049\n",
            "Epoch 262/300\n",
            "10/10 [==============================] - 0s 36ms/step - loss: 0.0923 - mean_absolute_error: 0.0923 - val_loss: 0.1045 - val_mean_absolute_error: 0.1045\n",
            "Epoch 263/300\n",
            "10/10 [==============================] - 0s 37ms/step - loss: 0.0663 - mean_absolute_error: 0.0663 - val_loss: 0.1044 - val_mean_absolute_error: 0.1044\n",
            "Epoch 264/300\n",
            "10/10 [==============================] - 0s 25ms/step - loss: 0.0930 - mean_absolute_error: 0.0930 - val_loss: 0.1076 - val_mean_absolute_error: 0.1076\n",
            "Epoch 265/300\n",
            "10/10 [==============================] - 0s 26ms/step - loss: 0.0872 - mean_absolute_error: 0.0872 - val_loss: 0.1091 - val_mean_absolute_error: 0.1091\n",
            "Epoch 266/300\n",
            "10/10 [==============================] - 0s 36ms/step - loss: 0.1058 - mean_absolute_error: 0.1058 - val_loss: 0.1083 - val_mean_absolute_error: 0.1083\n",
            "Epoch 267/300\n",
            "10/10 [==============================] - 0s 34ms/step - loss: 0.0835 - mean_absolute_error: 0.0835 - val_loss: 0.1076 - val_mean_absolute_error: 0.1076\n",
            "Epoch 268/300\n",
            "10/10 [==============================] - 0s 25ms/step - loss: 0.0829 - mean_absolute_error: 0.0829 - val_loss: 0.1058 - val_mean_absolute_error: 0.1058\n",
            "Epoch 269/300\n",
            "10/10 [==============================] - 0s 30ms/step - loss: 0.0797 - mean_absolute_error: 0.0797 - val_loss: 0.1046 - val_mean_absolute_error: 0.1046\n",
            "Epoch 270/300\n",
            "10/10 [==============================] - 0s 27ms/step - loss: 0.0543 - mean_absolute_error: 0.0543 - val_loss: 0.1043 - val_mean_absolute_error: 0.1043\n",
            "Epoch 271/300\n",
            "10/10 [==============================] - 0s 26ms/step - loss: 0.0823 - mean_absolute_error: 0.0823 - val_loss: 0.1043 - val_mean_absolute_error: 0.1043\n",
            "Epoch 272/300\n",
            "10/10 [==============================] - 0s 27ms/step - loss: 0.0902 - mean_absolute_error: 0.0902 - val_loss: 0.1043 - val_mean_absolute_error: 0.1043\n",
            "Epoch 273/300\n",
            "10/10 [==============================] - 0s 36ms/step - loss: 0.0664 - mean_absolute_error: 0.0664 - val_loss: 0.1042 - val_mean_absolute_error: 0.1042\n",
            "Epoch 274/300\n",
            "10/10 [==============================] - 0s 35ms/step - loss: 0.0938 - mean_absolute_error: 0.0938 - val_loss: 0.1047 - val_mean_absolute_error: 0.1047\n",
            "Epoch 275/300\n",
            "10/10 [==============================] - 0s 26ms/step - loss: 0.0859 - mean_absolute_error: 0.0859 - val_loss: 0.1054 - val_mean_absolute_error: 0.1054\n",
            "Epoch 276/300\n",
            "10/10 [==============================] - 0s 29ms/step - loss: 0.1043 - mean_absolute_error: 0.1043 - val_loss: 0.1052 - val_mean_absolute_error: 0.1052\n",
            "Epoch 277/300\n",
            "10/10 [==============================] - 0s 34ms/step - loss: 0.0841 - mean_absolute_error: 0.0841 - val_loss: 0.1051 - val_mean_absolute_error: 0.1051\n",
            "Epoch 278/300\n",
            "10/10 [==============================] - 0s 27ms/step - loss: 0.0812 - mean_absolute_error: 0.0812 - val_loss: 0.1047 - val_mean_absolute_error: 0.1047\n",
            "Epoch 279/300\n",
            "10/10 [==============================] - 0s 34ms/step - loss: 0.0788 - mean_absolute_error: 0.0788 - val_loss: 0.1045 - val_mean_absolute_error: 0.1045\n",
            "Epoch 280/300\n",
            "10/10 [==============================] - 0s 26ms/step - loss: 0.0544 - mean_absolute_error: 0.0544 - val_loss: 0.1044 - val_mean_absolute_error: 0.1044\n",
            "Epoch 281/300\n",
            "10/10 [==============================] - 0s 26ms/step - loss: 0.0824 - mean_absolute_error: 0.0824 - val_loss: 0.1043 - val_mean_absolute_error: 0.1043\n",
            "Epoch 282/300\n",
            "10/10 [==============================] - 0s 28ms/step - loss: 0.0895 - mean_absolute_error: 0.0895 - val_loss: 0.1043 - val_mean_absolute_error: 0.1043\n",
            "Epoch 283/300\n",
            "10/10 [==============================] - 0s 26ms/step - loss: 0.0646 - mean_absolute_error: 0.0646 - val_loss: 0.1043 - val_mean_absolute_error: 0.1043\n",
            "Epoch 284/300\n",
            "10/10 [==============================] - 0s 27ms/step - loss: 0.0934 - mean_absolute_error: 0.0934 - val_loss: 0.1045 - val_mean_absolute_error: 0.1045\n",
            "Epoch 285/300\n",
            "10/10 [==============================] - 0s 33ms/step - loss: 0.0859 - mean_absolute_error: 0.0859 - val_loss: 0.1047 - val_mean_absolute_error: 0.1047\n",
            "Epoch 286/300\n",
            "10/10 [==============================] - 0s 37ms/step - loss: 0.1040 - mean_absolute_error: 0.1040 - val_loss: 0.1047 - val_mean_absolute_error: 0.1047\n",
            "Epoch 287/300\n",
            "10/10 [==============================] - 0s 43ms/step - loss: 0.0842 - mean_absolute_error: 0.0842 - val_loss: 0.1048 - val_mean_absolute_error: 0.1048\n",
            "Epoch 288/300\n",
            "10/10 [==============================] - 0s 41ms/step - loss: 0.0808 - mean_absolute_error: 0.0808 - val_loss: 0.1047 - val_mean_absolute_error: 0.1047\n",
            "Epoch 289/300\n",
            "10/10 [==============================] - 0s 44ms/step - loss: 0.0787 - mean_absolute_error: 0.0787 - val_loss: 0.1046 - val_mean_absolute_error: 0.1046\n",
            "Epoch 290/300\n",
            "10/10 [==============================] - 0s 44ms/step - loss: 0.0548 - mean_absolute_error: 0.0548 - val_loss: 0.1046 - val_mean_absolute_error: 0.1046\n",
            "Epoch 291/300\n",
            "10/10 [==============================] - 0s 39ms/step - loss: 0.0825 - mean_absolute_error: 0.0825 - val_loss: 0.1045 - val_mean_absolute_error: 0.1045\n",
            "Epoch 292/300\n",
            "10/10 [==============================] - 0s 43ms/step - loss: 0.0890 - mean_absolute_error: 0.0890 - val_loss: 0.1045 - val_mean_absolute_error: 0.1045\n",
            "Epoch 293/300\n",
            "10/10 [==============================] - 0s 41ms/step - loss: 0.0633 - mean_absolute_error: 0.0633 - val_loss: 0.1045 - val_mean_absolute_error: 0.1045\n",
            "Epoch 294/300\n",
            "10/10 [==============================] - 0s 46ms/step - loss: 0.0929 - mean_absolute_error: 0.0929 - val_loss: 0.1046 - val_mean_absolute_error: 0.1046\n",
            "Epoch 295/300\n",
            "10/10 [==============================] - 0s 44ms/step - loss: 0.0858 - mean_absolute_error: 0.0858 - val_loss: 0.1046 - val_mean_absolute_error: 0.1046\n",
            "Epoch 296/300\n",
            "10/10 [==============================] - 0s 45ms/step - loss: 0.1038 - mean_absolute_error: 0.1038 - val_loss: 0.1046 - val_mean_absolute_error: 0.1046\n",
            "Epoch 297/300\n",
            "10/10 [==============================] - 0s 44ms/step - loss: 0.0843 - mean_absolute_error: 0.0843 - val_loss: 0.1046 - val_mean_absolute_error: 0.1046\n",
            "Epoch 298/300\n",
            "10/10 [==============================] - 0s 43ms/step - loss: 0.0806 - mean_absolute_error: 0.0806 - val_loss: 0.1046 - val_mean_absolute_error: 0.1046\n",
            "Epoch 299/300\n",
            "10/10 [==============================] - 0s 47ms/step - loss: 0.0784 - mean_absolute_error: 0.0784 - val_loss: 0.1046 - val_mean_absolute_error: 0.1046\n",
            "Epoch 300/300\n",
            "10/10 [==============================] - 0s 44ms/step - loss: 0.0547 - mean_absolute_error: 0.0547 - val_loss: 0.1046 - val_mean_absolute_error: 0.1046\n"
          ]
        }
      ]
    },
    {
      "cell_type": "code",
      "source": [
        "for k, hist in history.history.items():\n",
        "  plt.plot(hist)\n",
        "  plt.title(k)\n",
        "  plt.show()"
      ],
      "metadata": {
        "colab": {
          "base_uri": "https://localhost:8080/",
          "height": 1000
        },
        "id": "zrx2gJYg7dKo",
        "outputId": "098c1b37-9b1f-4406-be60-b40a1ac994d7"
      },
      "execution_count": null,
      "outputs": [
        {
          "output_type": "display_data",
          "data": {
            "text/plain": [
              "<Figure size 640x480 with 1 Axes>"
            ],
            "image/png": "[encoded data removed]"
          },
          "metadata": {}
        },
        {
          "output_type": "display_data",
          "data": {
            "text/plain": [
              "<Figure size 640x480 with 1 Axes>"
            ],
            "image/png": "[encoded data removed]"
          },
          "metadata": {}
        },
        {
          "output_type": "display_data",
          "data": {
            "text/plain": [
              "<Figure size 640x480 with 1 Axes>"
            ],
            "image/png": "[encoded data removed]"
          },
          "metadata": {}
        },
        {
          "output_type": "display_data",
          "data": {
            "text/plain": [
              "<Figure size 640x480 with 1 Axes>"
            ],
            "image/png": "[encoded data removed]"
          },
          "metadata": {}
        }
      ]
    }
  ]
}